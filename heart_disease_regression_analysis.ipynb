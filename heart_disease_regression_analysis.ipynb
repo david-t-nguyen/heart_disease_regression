{
 "cells": [
  {
   "cell_type": "markdown",
   "id": "fe5c40d0-0591-4ea5-8a7c-2695ce3f5f6c",
   "metadata": {},
   "source": [
    "# HEART DISEASE REGRESION ANALYSIS \n",
    "The purpose of this project is to anaylze health factors that may correlate with heart disease. This will be done by analyzing the factors through a series of different classification techniques. The optimality of the techniques will be evaluated by using them in order to train models to predict the likelihood of a person having heart disease. \n",
    "\n",
    "## Background\n",
    "\n",
    "Data will be a subset of the UCI Heart Disease dataset. This data has been fully supervised by UCI meaning that it's been fully labeled and we can trust the veracity of the labeling.\n",
    "\n",
    "#### Labels\n",
    "- **age:** Age in years\n",
    "- **sex:** (1 = male; 0 = female)\n",
    "- **cp:** Chest pain type (0 = asymptomatic; 1 = atypical angina; 2 = non-anginal pain; 3 = typical angina)\n",
    "- **trestbps:** Resting blood pressure (in mm Hg on admission to the hospital)\n",
    "- **cholserum:** Cholestoral in mg/dl\n",
    "- **fbs** Fasting blood sugar > 120 mg/dl (1 = true; 0 = false)\n",
    "- **restecg:** Resting electrocardiographic results (0= showing probable or definite left ventricular hypertrophy by Estes' criteria; 1 = normal; 2 = having ST-T wave abnormality (T wave inversions and/or ST elevation or depression of > 0.05 mV))\n",
    "- **thalach:** Maximum heart rate achieved\n",
    "- **exang:** Exercise induced angina (1 = yes; 0 = no)\n",
    "- **oldpeakST:** Depression induced by exercise relative to rest\n",
    "- **slope:** The slope of the peak exercise ST segment (0 = downsloping; 1 = flat; 2 = upsloping)\n",
    "- **ca:** Number of major vessels (0-4) colored by flourosopy\n",
    "- **thal:** 1 = normal; 2 = fixed defect; 3 = reversable defect\n",
    "- **sick:** Indicates the presence of Heart disease (True = Disease; False = No disease)"
   ]
  },
  {
   "cell_type": "markdown",
   "id": "11b3f2f4-cc27-4f0c-83c2-4717292169ce",
   "metadata": {},
   "source": [
    "### Load Important Libraries and Functions"
   ]
  },
  {
   "cell_type": "code",
   "execution_count": 64,
   "id": "f6f8ce5d-a097-44e6-abf8-24f6cd8d5b37",
   "metadata": {},
   "outputs": [],
   "source": [
    "import numpy as np # linear algebra\n",
    "import pandas as pd # data processing, CSV file I/O (e.g. pd.read_csv)\n",
    "import matplotlib.pyplot as plt # this is used for the plot the graph \n",
    "import seaborn as sns # used for plot interactive graph.\n",
    "\n",
    "#sklearn libraries to train models and check accuracy of models \n",
    "from sklearn.model_selection import train_test_split, KFold\n",
    "from sklearn import model_selection\n",
    "from sklearn import metrics\n",
    "\n",
    "#libraries for models/\n",
    "from sklearn.svm import SVC  \n",
    "from sklearn.linear_model import LogisticRegression\n",
    "from sklearn.neighbors import KNeighborsClassifier\n",
    "from sklearn.naive_bayes import GaussianNB\n",
    "\n",
    "#confusion matrix library \n",
    "from sklearn.metrics import confusion_matrix, ConfusionMatrixDisplay\n",
    "\n",
    "#useful libraries for randomization to create useful data\n",
    "import os\n",
    "import random\n",
    "\n",
    "#set a seed for consistent results \n",
    "random.seed(8)"
   ]
  },
  {
   "cell_type": "code",
   "execution_count": 65,
   "id": "2809ce03-52db-42d7-bd7e-16a60945762a",
   "metadata": {},
   "outputs": [],
   "source": [
    "# Helper function that allows you to draw nicely formatted confusion matrices\n",
    "def draw_confusion_matrix(y, y_hat, title_name=\"Confusion Matrix\"):\n",
    "    '''Draws a confusion matrix for the given target and predictions'''\n",
    "    cm = metrics.confusion_matrix(y, y_hat)\n",
    "    metrics.ConfusionMatrixDisplay(cm).plot()\n",
    "    plt.title(title_name)"
   ]
  },
  {
   "cell_type": "markdown",
   "id": "c166a7a4-1889-4030-b9ab-48ff17c90035",
   "metadata": {},
   "source": [
    "## Load Data and First Impressions"
   ]
  },
  {
   "cell_type": "code",
   "execution_count": 66,
   "id": "088b131b-3698-41af-a4c3-861ca0d647c9",
   "metadata": {},
   "outputs": [],
   "source": [
    "df = pd.read_csv('heartdisease.csv')"
   ]
  },
  {
   "cell_type": "code",
   "execution_count": 67,
   "id": "9c908f6c-190c-4510-85a5-f4bca92cb4df",
   "metadata": {},
   "outputs": [
    {
     "data": {
      "text/html": [
       "<div>\n",
       "<style scoped>\n",
       "    .dataframe tbody tr th:only-of-type {\n",
       "        vertical-align: middle;\n",
       "    }\n",
       "\n",
       "    .dataframe tbody tr th {\n",
       "        vertical-align: top;\n",
       "    }\n",
       "\n",
       "    .dataframe thead th {\n",
       "        text-align: right;\n",
       "    }\n",
       "</style>\n",
       "<table border=\"1\" class=\"dataframe\">\n",
       "  <thead>\n",
       "    <tr style=\"text-align: right;\">\n",
       "      <th></th>\n",
       "      <th>age</th>\n",
       "      <th>sex</th>\n",
       "      <th>cp</th>\n",
       "      <th>trestbps</th>\n",
       "      <th>chol</th>\n",
       "      <th>fbs</th>\n",
       "      <th>restecg</th>\n",
       "      <th>thalach</th>\n",
       "      <th>exang</th>\n",
       "      <th>oldpeak</th>\n",
       "      <th>slope</th>\n",
       "      <th>ca</th>\n",
       "      <th>thal</th>\n",
       "      <th>sick</th>\n",
       "    </tr>\n",
       "  </thead>\n",
       "  <tbody>\n",
       "    <tr>\n",
       "      <th>0</th>\n",
       "      <td>63</td>\n",
       "      <td>1</td>\n",
       "      <td>3</td>\n",
       "      <td>145</td>\n",
       "      <td>233</td>\n",
       "      <td>1</td>\n",
       "      <td>0</td>\n",
       "      <td>150</td>\n",
       "      <td>0</td>\n",
       "      <td>2.3</td>\n",
       "      <td>0</td>\n",
       "      <td>0</td>\n",
       "      <td>1</td>\n",
       "      <td>False</td>\n",
       "    </tr>\n",
       "    <tr>\n",
       "      <th>1</th>\n",
       "      <td>37</td>\n",
       "      <td>1</td>\n",
       "      <td>2</td>\n",
       "      <td>130</td>\n",
       "      <td>250</td>\n",
       "      <td>0</td>\n",
       "      <td>1</td>\n",
       "      <td>187</td>\n",
       "      <td>0</td>\n",
       "      <td>3.5</td>\n",
       "      <td>0</td>\n",
       "      <td>0</td>\n",
       "      <td>2</td>\n",
       "      <td>False</td>\n",
       "    </tr>\n",
       "    <tr>\n",
       "      <th>2</th>\n",
       "      <td>41</td>\n",
       "      <td>0</td>\n",
       "      <td>1</td>\n",
       "      <td>130</td>\n",
       "      <td>204</td>\n",
       "      <td>0</td>\n",
       "      <td>0</td>\n",
       "      <td>172</td>\n",
       "      <td>0</td>\n",
       "      <td>1.4</td>\n",
       "      <td>2</td>\n",
       "      <td>0</td>\n",
       "      <td>2</td>\n",
       "      <td>False</td>\n",
       "    </tr>\n",
       "    <tr>\n",
       "      <th>3</th>\n",
       "      <td>56</td>\n",
       "      <td>1</td>\n",
       "      <td>1</td>\n",
       "      <td>120</td>\n",
       "      <td>236</td>\n",
       "      <td>0</td>\n",
       "      <td>1</td>\n",
       "      <td>178</td>\n",
       "      <td>0</td>\n",
       "      <td>0.8</td>\n",
       "      <td>2</td>\n",
       "      <td>0</td>\n",
       "      <td>2</td>\n",
       "      <td>False</td>\n",
       "    </tr>\n",
       "    <tr>\n",
       "      <th>4</th>\n",
       "      <td>57</td>\n",
       "      <td>0</td>\n",
       "      <td>0</td>\n",
       "      <td>120</td>\n",
       "      <td>354</td>\n",
       "      <td>0</td>\n",
       "      <td>1</td>\n",
       "      <td>163</td>\n",
       "      <td>1</td>\n",
       "      <td>0.6</td>\n",
       "      <td>2</td>\n",
       "      <td>0</td>\n",
       "      <td>2</td>\n",
       "      <td>False</td>\n",
       "    </tr>\n",
       "  </tbody>\n",
       "</table>\n",
       "</div>"
      ],
      "text/plain": [
       "   age  sex  cp  trestbps  chol  fbs  restecg  thalach  exang  oldpeak  slope  \\\n",
       "0   63    1   3       145   233    1        0      150      0      2.3      0   \n",
       "1   37    1   2       130   250    0        1      187      0      3.5      0   \n",
       "2   41    0   1       130   204    0        0      172      0      1.4      2   \n",
       "3   56    1   1       120   236    0        1      178      0      0.8      2   \n",
       "4   57    0   0       120   354    0        1      163      1      0.6      2   \n",
       "\n",
       "   ca  thal   sick  \n",
       "0   0     1  False  \n",
       "1   0     2  False  \n",
       "2   0     2  False  \n",
       "3   0     2  False  \n",
       "4   0     2  False  "
      ]
     },
     "execution_count": 67,
     "metadata": {},
     "output_type": "execute_result"
    }
   ],
   "source": [
    "#use dataframe function head() to view first few lines of dataframe\n",
    "df.head()"
   ]
  },
  {
   "cell_type": "markdown",
   "id": "0bf16398-dcf1-4f81-a392-9312e3aec39e",
   "metadata": {},
   "source": [
    "### Notes\n",
    "Right now the values seem to be separated between sick and not sick (with all the not sick values first and then sick values at the end). With the goal of testing classification techiques, the sick value needs to be evenly distributed through the dataset in order to provide an accurate sample. "
   ]
  },
  {
   "cell_type": "code",
   "execution_count": 68,
   "id": "da15c6f0-a5cb-4efe-8a1e-c7736ab1202d",
   "metadata": {},
   "outputs": [
    {
     "data": {
      "text/html": [
       "<div>\n",
       "<style scoped>\n",
       "    .dataframe tbody tr th:only-of-type {\n",
       "        vertical-align: middle;\n",
       "    }\n",
       "\n",
       "    .dataframe tbody tr th {\n",
       "        vertical-align: top;\n",
       "    }\n",
       "\n",
       "    .dataframe thead th {\n",
       "        text-align: right;\n",
       "    }\n",
       "</style>\n",
       "<table border=\"1\" class=\"dataframe\">\n",
       "  <thead>\n",
       "    <tr style=\"text-align: right;\">\n",
       "      <th></th>\n",
       "      <th>age</th>\n",
       "      <th>sex</th>\n",
       "      <th>cp</th>\n",
       "      <th>trestbps</th>\n",
       "      <th>chol</th>\n",
       "      <th>fbs</th>\n",
       "      <th>restecg</th>\n",
       "      <th>thalach</th>\n",
       "      <th>exang</th>\n",
       "      <th>oldpeak</th>\n",
       "      <th>slope</th>\n",
       "      <th>ca</th>\n",
       "      <th>thal</th>\n",
       "    </tr>\n",
       "  </thead>\n",
       "  <tbody>\n",
       "    <tr>\n",
       "      <th>count</th>\n",
       "      <td>303.000000</td>\n",
       "      <td>303.000000</td>\n",
       "      <td>303.000000</td>\n",
       "      <td>303.000000</td>\n",
       "      <td>303.000000</td>\n",
       "      <td>303.000000</td>\n",
       "      <td>303.000000</td>\n",
       "      <td>303.000000</td>\n",
       "      <td>303.000000</td>\n",
       "      <td>303.000000</td>\n",
       "      <td>303.000000</td>\n",
       "      <td>303.000000</td>\n",
       "      <td>303.000000</td>\n",
       "    </tr>\n",
       "    <tr>\n",
       "      <th>mean</th>\n",
       "      <td>54.366337</td>\n",
       "      <td>0.683168</td>\n",
       "      <td>0.966997</td>\n",
       "      <td>131.623762</td>\n",
       "      <td>246.264026</td>\n",
       "      <td>0.148515</td>\n",
       "      <td>0.528053</td>\n",
       "      <td>149.646865</td>\n",
       "      <td>0.326733</td>\n",
       "      <td>1.039604</td>\n",
       "      <td>1.399340</td>\n",
       "      <td>0.729373</td>\n",
       "      <td>2.313531</td>\n",
       "    </tr>\n",
       "    <tr>\n",
       "      <th>std</th>\n",
       "      <td>9.082101</td>\n",
       "      <td>0.466011</td>\n",
       "      <td>1.032052</td>\n",
       "      <td>17.538143</td>\n",
       "      <td>51.830751</td>\n",
       "      <td>0.356198</td>\n",
       "      <td>0.525860</td>\n",
       "      <td>22.905161</td>\n",
       "      <td>0.469794</td>\n",
       "      <td>1.161075</td>\n",
       "      <td>0.616226</td>\n",
       "      <td>1.022606</td>\n",
       "      <td>0.612277</td>\n",
       "    </tr>\n",
       "    <tr>\n",
       "      <th>min</th>\n",
       "      <td>29.000000</td>\n",
       "      <td>0.000000</td>\n",
       "      <td>0.000000</td>\n",
       "      <td>94.000000</td>\n",
       "      <td>126.000000</td>\n",
       "      <td>0.000000</td>\n",
       "      <td>0.000000</td>\n",
       "      <td>71.000000</td>\n",
       "      <td>0.000000</td>\n",
       "      <td>0.000000</td>\n",
       "      <td>0.000000</td>\n",
       "      <td>0.000000</td>\n",
       "      <td>0.000000</td>\n",
       "    </tr>\n",
       "    <tr>\n",
       "      <th>25%</th>\n",
       "      <td>47.500000</td>\n",
       "      <td>0.000000</td>\n",
       "      <td>0.000000</td>\n",
       "      <td>120.000000</td>\n",
       "      <td>211.000000</td>\n",
       "      <td>0.000000</td>\n",
       "      <td>0.000000</td>\n",
       "      <td>133.500000</td>\n",
       "      <td>0.000000</td>\n",
       "      <td>0.000000</td>\n",
       "      <td>1.000000</td>\n",
       "      <td>0.000000</td>\n",
       "      <td>2.000000</td>\n",
       "    </tr>\n",
       "    <tr>\n",
       "      <th>50%</th>\n",
       "      <td>55.000000</td>\n",
       "      <td>1.000000</td>\n",
       "      <td>1.000000</td>\n",
       "      <td>130.000000</td>\n",
       "      <td>240.000000</td>\n",
       "      <td>0.000000</td>\n",
       "      <td>1.000000</td>\n",
       "      <td>153.000000</td>\n",
       "      <td>0.000000</td>\n",
       "      <td>0.800000</td>\n",
       "      <td>1.000000</td>\n",
       "      <td>0.000000</td>\n",
       "      <td>2.000000</td>\n",
       "    </tr>\n",
       "    <tr>\n",
       "      <th>75%</th>\n",
       "      <td>61.000000</td>\n",
       "      <td>1.000000</td>\n",
       "      <td>2.000000</td>\n",
       "      <td>140.000000</td>\n",
       "      <td>274.500000</td>\n",
       "      <td>0.000000</td>\n",
       "      <td>1.000000</td>\n",
       "      <td>166.000000</td>\n",
       "      <td>1.000000</td>\n",
       "      <td>1.600000</td>\n",
       "      <td>2.000000</td>\n",
       "      <td>1.000000</td>\n",
       "      <td>3.000000</td>\n",
       "    </tr>\n",
       "    <tr>\n",
       "      <th>max</th>\n",
       "      <td>77.000000</td>\n",
       "      <td>1.000000</td>\n",
       "      <td>3.000000</td>\n",
       "      <td>200.000000</td>\n",
       "      <td>564.000000</td>\n",
       "      <td>1.000000</td>\n",
       "      <td>2.000000</td>\n",
       "      <td>202.000000</td>\n",
       "      <td>1.000000</td>\n",
       "      <td>6.200000</td>\n",
       "      <td>2.000000</td>\n",
       "      <td>4.000000</td>\n",
       "      <td>3.000000</td>\n",
       "    </tr>\n",
       "  </tbody>\n",
       "</table>\n",
       "</div>"
      ],
      "text/plain": [
       "              age         sex          cp    trestbps        chol         fbs  \\\n",
       "count  303.000000  303.000000  303.000000  303.000000  303.000000  303.000000   \n",
       "mean    54.366337    0.683168    0.966997  131.623762  246.264026    0.148515   \n",
       "std      9.082101    0.466011    1.032052   17.538143   51.830751    0.356198   \n",
       "min     29.000000    0.000000    0.000000   94.000000  126.000000    0.000000   \n",
       "25%     47.500000    0.000000    0.000000  120.000000  211.000000    0.000000   \n",
       "50%     55.000000    1.000000    1.000000  130.000000  240.000000    0.000000   \n",
       "75%     61.000000    1.000000    2.000000  140.000000  274.500000    0.000000   \n",
       "max     77.000000    1.000000    3.000000  200.000000  564.000000    1.000000   \n",
       "\n",
       "          restecg     thalach       exang     oldpeak       slope          ca  \\\n",
       "count  303.000000  303.000000  303.000000  303.000000  303.000000  303.000000   \n",
       "mean     0.528053  149.646865    0.326733    1.039604    1.399340    0.729373   \n",
       "std      0.525860   22.905161    0.469794    1.161075    0.616226    1.022606   \n",
       "min      0.000000   71.000000    0.000000    0.000000    0.000000    0.000000   \n",
       "25%      0.000000  133.500000    0.000000    0.000000    1.000000    0.000000   \n",
       "50%      1.000000  153.000000    0.000000    0.800000    1.000000    0.000000   \n",
       "75%      1.000000  166.000000    1.000000    1.600000    2.000000    1.000000   \n",
       "max      2.000000  202.000000    1.000000    6.200000    2.000000    4.000000   \n",
       "\n",
       "             thal  \n",
       "count  303.000000  \n",
       "mean     2.313531  \n",
       "std      0.612277  \n",
       "min      0.000000  \n",
       "25%      2.000000  \n",
       "50%      2.000000  \n",
       "75%      3.000000  \n",
       "max      3.000000  "
      ]
     },
     "execution_count": 68,
     "metadata": {},
     "output_type": "execute_result"
    }
   ],
   "source": [
    "#use dataframe function describe() to get basic info about each column in dataframe\n",
    "df.describe()"
   ]
  },
  {
   "cell_type": "code",
   "execution_count": 69,
   "id": "e3e72faa-a284-4742-9240-1a3cc3d84125",
   "metadata": {},
   "outputs": [
    {
     "name": "stdout",
     "output_type": "stream",
     "text": [
      "<class 'pandas.core.frame.DataFrame'>\n",
      "RangeIndex: 303 entries, 0 to 302\n",
      "Data columns (total 14 columns):\n",
      " #   Column    Non-Null Count  Dtype  \n",
      "---  ------    --------------  -----  \n",
      " 0   age       303 non-null    int64  \n",
      " 1   sex       303 non-null    int64  \n",
      " 2   cp        303 non-null    int64  \n",
      " 3   trestbps  303 non-null    int64  \n",
      " 4   chol      303 non-null    int64  \n",
      " 5   fbs       303 non-null    int64  \n",
      " 6   restecg   303 non-null    int64  \n",
      " 7   thalach   303 non-null    int64  \n",
      " 8   exang     303 non-null    int64  \n",
      " 9   oldpeak   303 non-null    float64\n",
      " 10  slope     303 non-null    int64  \n",
      " 11  ca        303 non-null    int64  \n",
      " 12  thal      303 non-null    int64  \n",
      " 13  sick      303 non-null    bool   \n",
      "dtypes: bool(1), float64(1), int64(12)\n",
      "memory usage: 31.2 KB\n"
     ]
    }
   ],
   "source": [
    "#use dataframe function info() to get count and type of each column\n",
    "df.info()"
   ]
  },
  {
   "cell_type": "markdown",
   "id": "15d9fa2c-9e32-41ef-bf38-bc840edc122b",
   "metadata": {},
   "source": [
    "### Notes\n",
    "Looking at the types of data, they all seem to be similar except for the \"sick\" column in the sense that \"sick\" is boolean while the other ones are numeric. The learning methods we will be using later on will rely on numeric inputs. Therefore the int and float types will be fine but we need change the bool values as the learning methods may not be able to use infomation in this column and waste this data. Also the \"sick\" column is the most crucial column so we need to preserve the data to be able to use it.\n",
    "\n"
   ]
  },
  {
   "cell_type": "code",
   "execution_count": 70,
   "id": "6681db69-2827-402d-aa91-7655c8ca3492",
   "metadata": {},
   "outputs": [
    {
     "data": {
      "text/html": [
       "<div>\n",
       "<style scoped>\n",
       "    .dataframe tbody tr th:only-of-type {\n",
       "        vertical-align: middle;\n",
       "    }\n",
       "\n",
       "    .dataframe tbody tr th {\n",
       "        vertical-align: top;\n",
       "    }\n",
       "\n",
       "    .dataframe thead th {\n",
       "        text-align: right;\n",
       "    }\n",
       "</style>\n",
       "<table border=\"1\" class=\"dataframe\">\n",
       "  <thead>\n",
       "    <tr style=\"text-align: right;\">\n",
       "      <th></th>\n",
       "      <th>age</th>\n",
       "      <th>sex</th>\n",
       "      <th>cp</th>\n",
       "      <th>trestbps</th>\n",
       "      <th>chol</th>\n",
       "      <th>fbs</th>\n",
       "      <th>restecg</th>\n",
       "      <th>thalach</th>\n",
       "      <th>exang</th>\n",
       "      <th>oldpeak</th>\n",
       "      <th>slope</th>\n",
       "      <th>ca</th>\n",
       "      <th>thal</th>\n",
       "      <th>sick</th>\n",
       "    </tr>\n",
       "  </thead>\n",
       "  <tbody>\n",
       "    <tr>\n",
       "      <th>106</th>\n",
       "      <td>69</td>\n",
       "      <td>1</td>\n",
       "      <td>3</td>\n",
       "      <td>160</td>\n",
       "      <td>234</td>\n",
       "      <td>1</td>\n",
       "      <td>0</td>\n",
       "      <td>131</td>\n",
       "      <td>0</td>\n",
       "      <td>0.1</td>\n",
       "      <td>1</td>\n",
       "      <td>1</td>\n",
       "      <td>2</td>\n",
       "      <td>0</td>\n",
       "    </tr>\n",
       "    <tr>\n",
       "      <th>111</th>\n",
       "      <td>57</td>\n",
       "      <td>1</td>\n",
       "      <td>2</td>\n",
       "      <td>150</td>\n",
       "      <td>126</td>\n",
       "      <td>1</td>\n",
       "      <td>1</td>\n",
       "      <td>173</td>\n",
       "      <td>0</td>\n",
       "      <td>0.2</td>\n",
       "      <td>2</td>\n",
       "      <td>1</td>\n",
       "      <td>3</td>\n",
       "      <td>0</td>\n",
       "    </tr>\n",
       "    <tr>\n",
       "      <th>14</th>\n",
       "      <td>58</td>\n",
       "      <td>0</td>\n",
       "      <td>3</td>\n",
       "      <td>150</td>\n",
       "      <td>283</td>\n",
       "      <td>1</td>\n",
       "      <td>0</td>\n",
       "      <td>162</td>\n",
       "      <td>0</td>\n",
       "      <td>1.0</td>\n",
       "      <td>2</td>\n",
       "      <td>0</td>\n",
       "      <td>2</td>\n",
       "      <td>0</td>\n",
       "    </tr>\n",
       "    <tr>\n",
       "      <th>36</th>\n",
       "      <td>54</td>\n",
       "      <td>0</td>\n",
       "      <td>2</td>\n",
       "      <td>135</td>\n",
       "      <td>304</td>\n",
       "      <td>1</td>\n",
       "      <td>1</td>\n",
       "      <td>170</td>\n",
       "      <td>0</td>\n",
       "      <td>0.0</td>\n",
       "      <td>2</td>\n",
       "      <td>0</td>\n",
       "      <td>2</td>\n",
       "      <td>0</td>\n",
       "    </tr>\n",
       "    <tr>\n",
       "      <th>71</th>\n",
       "      <td>51</td>\n",
       "      <td>1</td>\n",
       "      <td>2</td>\n",
       "      <td>94</td>\n",
       "      <td>227</td>\n",
       "      <td>0</td>\n",
       "      <td>1</td>\n",
       "      <td>154</td>\n",
       "      <td>1</td>\n",
       "      <td>0.0</td>\n",
       "      <td>2</td>\n",
       "      <td>1</td>\n",
       "      <td>3</td>\n",
       "      <td>0</td>\n",
       "    </tr>\n",
       "  </tbody>\n",
       "</table>\n",
       "</div>"
      ],
      "text/plain": [
       "     age  sex  cp  trestbps  chol  fbs  restecg  thalach  exang  oldpeak  \\\n",
       "106   69    1   3       160   234    1        0      131      0      0.1   \n",
       "111   57    1   2       150   126    1        1      173      0      0.2   \n",
       "14    58    0   3       150   283    1        0      162      0      1.0   \n",
       "36    54    0   2       135   304    1        1      170      0      0.0   \n",
       "71    51    1   2        94   227    0        1      154      1      0.0   \n",
       "\n",
       "     slope  ca  thal  sick  \n",
       "106      1   1     2     0  \n",
       "111      2   1     3     0  \n",
       "14       2   0     2     0  \n",
       "36       2   0     2     0  \n",
       "71       2   1     3     0  "
      ]
     },
     "execution_count": 70,
     "metadata": {},
     "output_type": "execute_result"
    }
   ],
   "source": [
    "'''\n",
    "In this code block, we first recode the sick column in order to be able use it in the same way as the other columns and then we shuffle\n",
    "the data so that we do not have a list that distinguishes between the sick and not sick patients.\n",
    "'''\n",
    "\n",
    "#convert sick column from boolean to numeric (0 for False and 1 for True)\n",
    "recode = { True : 1, False : 0 }\n",
    "df['sick'] = df['sick'].map(recode) \n",
    "\n",
    "#shuffle the dataframe\n",
    "from sklearn.utils import shuffle\n",
    "df = shuffle(df)\n",
    "\n",
    "df.head()"
   ]
  },
  {
   "cell_type": "markdown",
   "id": "b7b1d4d8-12cd-4ac4-80dc-2d3b63fe9527",
   "metadata": {},
   "source": [
    "### Examine Data \n",
    "Next we will examine the data and see what information we may be able to find from just looking at each column alone. Note that we will need to separate the data for the \"sick\" column as it is what we will be trying to predict later on. We will be observing the other information to see if anything will be able to help us correlate a certain factor with and sickness. \n",
    "\n",
    "For the obseveration we will be plotting the data as histograms. With the histograms we will be able to see how the data groups up. We will note if they are either \n",
    "1) binary (two choices for the data)\n",
    "2) limited selection (data falls into small number buckets)\n",
    "3) gradient (data is dispersed across a range)\n"
   ]
  },
  {
   "cell_type": "code",
   "execution_count": 71,
   "id": "455b83d6-5e18-4e46-bec8-8240ddd82bb4",
   "metadata": {},
   "outputs": [],
   "source": [
    "#separate sick data from data frame\n",
    "y = df['sick']\n",
    "x = df.drop(['sick'], axis = 1)\n",
    "\n",
    "#plot data in x as histograms \n",
    "def histogram(col):\n",
    "    plt.figure(figsize=(5,3))\n",
    "    plt.hist(x[col])\n",
    "    plt.title(col)\n",
    "    plt.show()\n",
    "\n",
    "#track each type of data \n",
    "binary = []\n",
    "selection = []\n",
    "gradient = []"
   ]
  },
  {
   "cell_type": "code",
   "execution_count": 72,
   "id": "0760ce02-aae3-441a-be07-55dba3aff695",
   "metadata": {},
   "outputs": [
    {
     "data": {
      "image/png": "[encoded data removed]",
      "text/plain": [
       "<Figure size 500x300 with 1 Axes>"
      ]
     },
     "metadata": {},
     "output_type": "display_data"
    }
   ],
   "source": [
    "histogram('age')  #gradient (seems to be a normal curve skewed slightly to the left)"
   ]
  },
  {
   "cell_type": "code",
   "execution_count": 73,
   "id": "8bb72c6c-2ef0-4994-b0c8-199c7d32cc66",
   "metadata": {},
   "outputs": [],
   "source": [
    "gradient.append('age')"
   ]
  },
  {
   "cell_type": "code",
   "execution_count": 74,
   "id": "a1e2e80a-4145-4a7f-98a8-cf072643fcce",
   "metadata": {},
   "outputs": [
    {
     "data": {
      "image/png": "[encoded data removed]",
      "text/plain": [
       "<Figure size 500x300 with 1 Axes>"
      ]
     },
     "metadata": {},
     "output_type": "display_data"
    }
   ],
   "source": [
    "histogram('sex') #binary"
   ]
  },
  {
   "cell_type": "code",
   "execution_count": 75,
   "id": "7d579b54-6724-43e1-819f-3b7776a44d06",
   "metadata": {},
   "outputs": [],
   "source": [
    "binary.append('sex')"
   ]
  },
  {
   "cell_type": "code",
   "execution_count": 76,
   "id": "489f1b22-e9f7-4a3e-bd80-90dbf22b8e5c",
   "metadata": {},
   "outputs": [
    {
     "data": {
      "image/png": "[encoded data removed]",
      "text/plain": [
       "<Figure size 500x300 with 1 Axes>"
      ]
     },
     "metadata": {},
     "output_type": "display_data"
    }
   ],
   "source": [
    "histogram('cp') #limited selection (classisfication with 4 classes)"
   ]
  },
  {
   "cell_type": "code",
   "execution_count": 77,
   "id": "fb525bcf-2c64-46ed-859d-789ca7d9ad45",
   "metadata": {},
   "outputs": [],
   "source": [
    "selection.append('cp')"
   ]
  },
  {
   "cell_type": "code",
   "execution_count": 78,
   "id": "eb1959ad-9df5-49a1-954b-c75ff5eabc45",
   "metadata": {},
   "outputs": [
    {
     "data": {
      "image/png": "[encoded data removed]",
      "text/plain": [
       "<Figure size 500x300 with 1 Axes>"
      ]
     },
     "metadata": {},
     "output_type": "display_data"
    }
   ],
   "source": [
    "histogram('trestbps') #gradient (bell curve with right skew)"
   ]
  },
  {
   "cell_type": "code",
   "execution_count": 79,
   "id": "77d16d88-d77f-48ad-999d-8cb844deb7bf",
   "metadata": {},
   "outputs": [],
   "source": [
    "gradient.append('trestbps')"
   ]
  },
  {
   "cell_type": "code",
   "execution_count": 80,
   "id": "3158e940-3861-41a1-834f-5b77887b3b47",
   "metadata": {},
   "outputs": [
    {
     "data": {
      "image/png": "[encoded data removed]",
      "text/plain": [
       "<Figure size 500x300 with 1 Axes>"
      ]
     },
     "metadata": {},
     "output_type": "display_data"
    }
   ],
   "source": [
    "histogram('chol') #gradient (bell curve with right skew)"
   ]
  },
  {
   "cell_type": "code",
   "execution_count": 81,
   "id": "197a4267-d7de-4ed7-9210-0b491170650d",
   "metadata": {},
   "outputs": [],
   "source": [
    "gradient.append('chol')"
   ]
  },
  {
   "cell_type": "code",
   "execution_count": 82,
   "id": "1ec59cde-74bc-400a-a7fb-ddfad4f1b9f3",
   "metadata": {},
   "outputs": [
    {
     "data": {
      "image/png": "[encoded data removed]",
      "text/plain": [
       "<Figure size 500x300 with 1 Axes>"
      ]
     },
     "metadata": {},
     "output_type": "display_data"
    }
   ],
   "source": [
    "histogram('fbs') #binary "
   ]
  },
  {
   "cell_type": "code",
   "execution_count": 83,
   "id": "6c14f35a-1ce4-4dc4-beef-ef9b7b2b2d8d",
   "metadata": {},
   "outputs": [],
   "source": [
    "binary.append('fbs')"
   ]
  },
  {
   "cell_type": "code",
   "execution_count": 84,
   "id": "802f976c-02dd-4ff2-b0ff-9bacdeaaf771",
   "metadata": {},
   "outputs": [
    {
     "data": {
      "image/png": "[encoded data removed]",
      "text/plain": [
       "<Figure size 500x300 with 1 Axes>"
      ]
     },
     "metadata": {},
     "output_type": "display_data"
    }
   ],
   "source": [
    "histogram('restecg') #selection with 3 classes"
   ]
  },
  {
   "cell_type": "code",
   "execution_count": 85,
   "id": "7ea5f29f-e24f-4e83-9c66-2b6980e51fda",
   "metadata": {},
   "outputs": [],
   "source": [
    "selection.append('restecg')"
   ]
  },
  {
   "cell_type": "code",
   "execution_count": 86,
   "id": "26a1f55b-c023-49ee-a4c3-1f477f140cea",
   "metadata": {},
   "outputs": [
    {
     "data": {
      "image/png": "[encoded data removed]",
      "text/plain": [
       "<Figure size 500x300 with 1 Axes>"
      ]
     },
     "metadata": {},
     "output_type": "display_data"
    }
   ],
   "source": [
    "histogram('thalach') #gradient (bell curve with left skew)"
   ]
  },
  {
   "cell_type": "code",
   "execution_count": 87,
   "id": "bf418f5d-e6f8-4e70-b69a-2a621201f766",
   "metadata": {},
   "outputs": [],
   "source": [
    "gradient.append('thalach')"
   ]
  },
  {
   "cell_type": "code",
   "execution_count": 88,
   "id": "266820d0-0ac6-45cd-8ecb-3634255800b3",
   "metadata": {},
   "outputs": [
    {
     "data": {
      "image/png": "[encoded data removed]",
      "text/plain": [
       "<Figure size 500x300 with 1 Axes>"
      ]
     },
     "metadata": {},
     "output_type": "display_data"
    }
   ],
   "source": [
    "histogram('exang') #binary"
   ]
  },
  {
   "cell_type": "code",
   "execution_count": 89,
   "id": "dd43af3a-450e-48af-af81-0c4c4dc373eb",
   "metadata": {},
   "outputs": [],
   "source": [
    "binary.append('exang')"
   ]
  },
  {
   "cell_type": "code",
   "execution_count": 90,
   "id": "fb3cce88-e2fa-4030-b32f-5545f4836a82",
   "metadata": {},
   "outputs": [
    {
     "data": {
      "image/png": "[encoded data removed]",
      "text/plain": [
       "<Figure size 500x300 with 1 Axes>"
      ]
     },
     "metadata": {},
     "output_type": "display_data"
    }
   ],
   "source": [
    "histogram('oldpeak') #gradient (exponential decrease)"
   ]
  },
  {
   "cell_type": "code",
   "execution_count": 91,
   "id": "ca8c8d0e-27af-4bff-a604-dc9efa79c71a",
   "metadata": {},
   "outputs": [],
   "source": [
    "gradient.append('oldpeak')"
   ]
  },
  {
   "cell_type": "code",
   "execution_count": 92,
   "id": "df306a59-cdd8-43bf-947c-f01ca1c4ce03",
   "metadata": {},
   "outputs": [
    {
     "data": {
      "image/png": "[encoded data removed]",
      "text/plain": [
       "<Figure size 500x300 with 1 Axes>"
      ]
     },
     "metadata": {},
     "output_type": "display_data"
    }
   ],
   "source": [
    "histogram('slope') #selection with 3 classes"
   ]
  },
  {
   "cell_type": "code",
   "execution_count": 93,
   "id": "1e5f341e-2bb3-4a8e-9e8d-2d1c554fd7eb",
   "metadata": {},
   "outputs": [],
   "source": [
    "selection.append('slope')"
   ]
  },
  {
   "cell_type": "code",
   "execution_count": 94,
   "id": "e3fb87aa-db79-4b72-80b1-7f692e74e912",
   "metadata": {},
   "outputs": [
    {
     "data": {
      "image/png": "[encoded data removed]",
      "text/plain": [
       "<Figure size 500x300 with 1 Axes>"
      ]
     },
     "metadata": {},
     "output_type": "display_data"
    }
   ],
   "source": [
    "histogram('ca') #selection with 5 classes"
   ]
  },
  {
   "cell_type": "code",
   "execution_count": 95,
   "id": "44ea5f9e-d290-447c-9079-3f416eb32124",
   "metadata": {},
   "outputs": [],
   "source": [
    "selection.append('ca')"
   ]
  },
  {
   "cell_type": "code",
   "execution_count": 96,
   "id": "b217a79c-c89c-4391-bc30-cd26b45e7f25",
   "metadata": {},
   "outputs": [
    {
     "data": {
      "image/png": "[encoded data removed]",
      "text/plain": [
       "<Figure size 500x300 with 1 Axes>"
      ]
     },
     "metadata": {},
     "output_type": "display_data"
    }
   ],
   "source": [
    "histogram('thal') #selection with 4 classes"
   ]
  },
  {
   "cell_type": "code",
   "execution_count": 97,
   "id": "efe4fae4-d73f-40e1-88d5-a062196da951",
   "metadata": {},
   "outputs": [],
   "source": [
    "selection.append('thal')"
   ]
  },
  {
   "cell_type": "code",
   "execution_count": 98,
   "id": "a854d5ab-c6c4-436e-a36f-69c7f3f60ffc",
   "metadata": {},
   "outputs": [
    {
     "data": {
      "text/plain": [
       "['cp', 'restecg', 'slope', 'ca', 'thal']"
      ]
     },
     "execution_count": 98,
     "metadata": {},
     "output_type": "execute_result"
    }
   ],
   "source": [
    "selection"
   ]
  },
  {
   "cell_type": "code",
   "execution_count": 99,
   "id": "efc95107-0c8c-44e1-ad4e-d8e88bca6287",
   "metadata": {},
   "outputs": [
    {
     "data": {
      "text/plain": [
       "['sex', 'fbs', 'exang']"
      ]
     },
     "execution_count": 99,
     "metadata": {},
     "output_type": "execute_result"
    }
   ],
   "source": [
    "binary"
   ]
  },
  {
   "cell_type": "code",
   "execution_count": 100,
   "id": "de02c4d7-32b3-4c72-b281-f3c4b603db43",
   "metadata": {},
   "outputs": [
    {
     "data": {
      "text/plain": [
       "['age', 'trestbps', 'chol', 'thalach', 'oldpeak']"
      ]
     },
     "execution_count": 100,
     "metadata": {},
     "output_type": "execute_result"
    }
   ],
   "source": [
    "gradient"
   ]
  },
  {
   "cell_type": "markdown",
   "id": "46fe7288-e8b2-41f4-9349-a134026ebfde",
   "metadata": {},
   "source": [
    "### Notes\n",
    "From the binary, selection, and gradient arrays, we are able to see how the what type of data is displayed in with each health factor. When we compare this to the labels that were given to us, the information is consistent. Knowing the classification of the data will allow us to know how we might want to proceed with processing the data. For example, we may use a standard scaler or one hot encoding and depending on the classification of the data, one may be better suited than the other"
   ]
  },
  {
   "cell_type": "code",
   "execution_count": 101,
   "id": "56059e57-add6-4ce1-929e-69fad8764a07",
   "metadata": {},
   "outputs": [
    {
     "name": "stdout",
     "output_type": "stream",
     "text": [
      "binary:  ['sex', 'fbs', 'exang']\n",
      "selection:  ['cp', 'restecg', 'slope', 'ca', 'thal']\n",
      "gradient:  ['age', 'trestbps', 'chol', 'thalach', 'oldpeak']\n"
     ]
    }
   ],
   "source": [
    "#way to categorize with code instead of manually looking \n",
    "def type(data, max_selection):\n",
    "    hmap = dict()\n",
    "    for num in data:\n",
    "        hmap[num] = hmap.get(num, 0) + 1\n",
    "    if len(hmap) == 2: \n",
    "        return 'binary'\n",
    "    elif len(hmap) <= max_selection:\n",
    "        return 'selection'\n",
    "    else:\n",
    "        return 'gradient'\n",
    "\n",
    "b = []\n",
    "s = []\n",
    "g = []\n",
    "selection_threshold = 5\n",
    "\n",
    "for col in x:\n",
    "    class_type = type(x[col], selection_threshold)\n",
    "    if class_type == 'binary':\n",
    "        b.append(col)\n",
    "    elif class_type == 'selection':\n",
    "        s.append(col)\n",
    "    elif class_type == 'gradient':\n",
    "        g.append(col)\n",
    "\n",
    "print('binary: ', b)\n",
    "print('selection: ' , s)\n",
    "print('gradient: ', g)"
   ]
  },
  {
   "cell_type": "markdown",
   "id": "8b77d900-191a-479e-a69a-0b514e261cb2",
   "metadata": {},
   "source": [
    "### Notes\n",
    "This was a sanity check done in order to be able to check the classfication of each factor. While we are able to do this manually for this set of data, if we were using a data set with more factors we may not be able to do this manually. Also this may be more effcient than checking manually and less prone to errors."
   ]
  },
  {
   "cell_type": "code",
   "execution_count": 102,
   "id": "0ceeb903-520b-42f5-8620-73717f8459af",
   "metadata": {},
   "outputs": [
    {
     "data": {
      "image/png": "[encoded data removed]",
      "text/plain": [
       "<Figure size 640x480 with 1 Axes>"
      ]
     },
     "metadata": {},
     "output_type": "display_data"
    },
    {
     "name": "stdout",
     "output_type": "stream",
     "text": [
      "Amount of Sick Participants:  138\n",
      "Amount of Not Sick Participants:  165\n"
     ]
    }
   ],
   "source": [
    "y.hist()\n",
    "plt.title(\"Sick\")\n",
    "plt.show()\n",
    "\n",
    "my_list = y.tolist()\n",
    "not_sick = my_list.count(0)\n",
    "is_sick = my_list.count(1)\n",
    "\n",
    "print('Amount of Sick Participants: ', is_sick)\n",
    "print('Amount of Not Sick Participants: ', not_sick)"
   ]
  },
  {
   "cell_type": "markdown",
   "id": "628836f1-d3f6-48dd-bd85-e9480cfc09bc",
   "metadata": {},
   "source": [
    "### Notes\n",
    "\n",
    "Looking at the amount of sick people to healthy people, we seem to have a fairly balanced group with plenty on both sides. Having a decent mix is important as we need to able to see what factors may cause someone to be sick as compared to healthy. If the data only had sick people, all the data would point to the factors inidicating illness at the same magnitude and vice versa. With a mix of people, we are able to see both which factors can be indicators as well as which groups of factors may show the strongest correlation of illness. "
   ]
  },
  {
   "cell_type": "code",
   "execution_count": 103,
   "id": "8513db23-1d30-46ca-bdf5-00412fa1d875",
   "metadata": {},
   "outputs": [
    {
     "data": {
      "text/plain": [
       "<Axes: >"
      ]
     },
     "execution_count": 103,
     "metadata": {},
     "output_type": "execute_result"
    },
    {
     "data": {
      "image/png": "[encoded data removed]",
      "text/plain": [
       "<Figure size 640x480 with 2 Axes>"
      ]
     },
     "metadata": {},
     "output_type": "display_data"
    }
   ],
   "source": [
    "sns.heatmap(df)"
   ]
  },
  {
   "cell_type": "code",
   "execution_count": 104,
   "id": "8b2c0c27-e6f2-43d9-80c6-cdd0328624cd",
   "metadata": {},
   "outputs": [
    {
     "data": {
      "text/html": [
       "<div>\n",
       "<style scoped>\n",
       "    .dataframe tbody tr th:only-of-type {\n",
       "        vertical-align: middle;\n",
       "    }\n",
       "\n",
       "    .dataframe tbody tr th {\n",
       "        vertical-align: top;\n",
       "    }\n",
       "\n",
       "    .dataframe thead th {\n",
       "        text-align: right;\n",
       "    }\n",
       "</style>\n",
       "<table border=\"1\" class=\"dataframe\">\n",
       "  <thead>\n",
       "    <tr style=\"text-align: right;\">\n",
       "      <th></th>\n",
       "      <th>age</th>\n",
       "      <th>sex</th>\n",
       "      <th>cp</th>\n",
       "      <th>trestbps</th>\n",
       "      <th>chol</th>\n",
       "      <th>fbs</th>\n",
       "      <th>restecg</th>\n",
       "      <th>thalach</th>\n",
       "      <th>exang</th>\n",
       "      <th>oldpeak</th>\n",
       "      <th>slope</th>\n",
       "      <th>ca</th>\n",
       "      <th>thal</th>\n",
       "      <th>sick</th>\n",
       "    </tr>\n",
       "  </thead>\n",
       "  <tbody>\n",
       "    <tr>\n",
       "      <th>age</th>\n",
       "      <td>1.000000</td>\n",
       "      <td>-0.098447</td>\n",
       "      <td>-0.068653</td>\n",
       "      <td>0.279351</td>\n",
       "      <td>0.213678</td>\n",
       "      <td>0.121308</td>\n",
       "      <td>-0.116211</td>\n",
       "      <td>-0.398522</td>\n",
       "      <td>0.096801</td>\n",
       "      <td>0.210013</td>\n",
       "      <td>-0.168814</td>\n",
       "      <td>0.276326</td>\n",
       "      <td>0.068001</td>\n",
       "      <td>0.225439</td>\n",
       "    </tr>\n",
       "    <tr>\n",
       "      <th>sex</th>\n",
       "      <td>-0.098447</td>\n",
       "      <td>1.000000</td>\n",
       "      <td>-0.049353</td>\n",
       "      <td>-0.056769</td>\n",
       "      <td>-0.197912</td>\n",
       "      <td>0.045032</td>\n",
       "      <td>-0.058196</td>\n",
       "      <td>-0.044020</td>\n",
       "      <td>0.141664</td>\n",
       "      <td>0.096093</td>\n",
       "      <td>-0.030711</td>\n",
       "      <td>0.118261</td>\n",
       "      <td>0.210041</td>\n",
       "      <td>0.280937</td>\n",
       "    </tr>\n",
       "    <tr>\n",
       "      <th>cp</th>\n",
       "      <td>-0.068653</td>\n",
       "      <td>-0.049353</td>\n",
       "      <td>1.000000</td>\n",
       "      <td>0.047608</td>\n",
       "      <td>-0.076904</td>\n",
       "      <td>0.094444</td>\n",
       "      <td>0.044421</td>\n",
       "      <td>0.295762</td>\n",
       "      <td>-0.394280</td>\n",
       "      <td>-0.149230</td>\n",
       "      <td>0.119717</td>\n",
       "      <td>-0.181053</td>\n",
       "      <td>-0.161736</td>\n",
       "      <td>-0.433798</td>\n",
       "    </tr>\n",
       "    <tr>\n",
       "      <th>trestbps</th>\n",
       "      <td>0.279351</td>\n",
       "      <td>-0.056769</td>\n",
       "      <td>0.047608</td>\n",
       "      <td>1.000000</td>\n",
       "      <td>0.123174</td>\n",
       "      <td>0.177531</td>\n",
       "      <td>-0.114103</td>\n",
       "      <td>-0.046698</td>\n",
       "      <td>0.067616</td>\n",
       "      <td>0.193216</td>\n",
       "      <td>-0.121475</td>\n",
       "      <td>0.101389</td>\n",
       "      <td>0.062210</td>\n",
       "      <td>0.144931</td>\n",
       "    </tr>\n",
       "    <tr>\n",
       "      <th>chol</th>\n",
       "      <td>0.213678</td>\n",
       "      <td>-0.197912</td>\n",
       "      <td>-0.076904</td>\n",
       "      <td>0.123174</td>\n",
       "      <td>1.000000</td>\n",
       "      <td>0.013294</td>\n",
       "      <td>-0.151040</td>\n",
       "      <td>-0.009940</td>\n",
       "      <td>0.067023</td>\n",
       "      <td>0.053952</td>\n",
       "      <td>-0.004038</td>\n",
       "      <td>0.070511</td>\n",
       "      <td>0.098803</td>\n",
       "      <td>0.085239</td>\n",
       "    </tr>\n",
       "    <tr>\n",
       "      <th>fbs</th>\n",
       "      <td>0.121308</td>\n",
       "      <td>0.045032</td>\n",
       "      <td>0.094444</td>\n",
       "      <td>0.177531</td>\n",
       "      <td>0.013294</td>\n",
       "      <td>1.000000</td>\n",
       "      <td>-0.084189</td>\n",
       "      <td>-0.008567</td>\n",
       "      <td>0.025665</td>\n",
       "      <td>0.005747</td>\n",
       "      <td>-0.059894</td>\n",
       "      <td>0.137979</td>\n",
       "      <td>-0.032019</td>\n",
       "      <td>0.028046</td>\n",
       "    </tr>\n",
       "    <tr>\n",
       "      <th>restecg</th>\n",
       "      <td>-0.116211</td>\n",
       "      <td>-0.058196</td>\n",
       "      <td>0.044421</td>\n",
       "      <td>-0.114103</td>\n",
       "      <td>-0.151040</td>\n",
       "      <td>-0.084189</td>\n",
       "      <td>1.000000</td>\n",
       "      <td>0.044123</td>\n",
       "      <td>-0.070733</td>\n",
       "      <td>-0.058770</td>\n",
       "      <td>0.093045</td>\n",
       "      <td>-0.072042</td>\n",
       "      <td>-0.011981</td>\n",
       "      <td>-0.137230</td>\n",
       "    </tr>\n",
       "    <tr>\n",
       "      <th>thalach</th>\n",
       "      <td>-0.398522</td>\n",
       "      <td>-0.044020</td>\n",
       "      <td>0.295762</td>\n",
       "      <td>-0.046698</td>\n",
       "      <td>-0.009940</td>\n",
       "      <td>-0.008567</td>\n",
       "      <td>0.044123</td>\n",
       "      <td>1.000000</td>\n",
       "      <td>-0.378812</td>\n",
       "      <td>-0.344187</td>\n",
       "      <td>0.386784</td>\n",
       "      <td>-0.213177</td>\n",
       "      <td>-0.096439</td>\n",
       "      <td>-0.421741</td>\n",
       "    </tr>\n",
       "    <tr>\n",
       "      <th>exang</th>\n",
       "      <td>0.096801</td>\n",
       "      <td>0.141664</td>\n",
       "      <td>-0.394280</td>\n",
       "      <td>0.067616</td>\n",
       "      <td>0.067023</td>\n",
       "      <td>0.025665</td>\n",
       "      <td>-0.070733</td>\n",
       "      <td>-0.378812</td>\n",
       "      <td>1.000000</td>\n",
       "      <td>0.288223</td>\n",
       "      <td>-0.257748</td>\n",
       "      <td>0.115739</td>\n",
       "      <td>0.206754</td>\n",
       "      <td>0.436757</td>\n",
       "    </tr>\n",
       "    <tr>\n",
       "      <th>oldpeak</th>\n",
       "      <td>0.210013</td>\n",
       "      <td>0.096093</td>\n",
       "      <td>-0.149230</td>\n",
       "      <td>0.193216</td>\n",
       "      <td>0.053952</td>\n",
       "      <td>0.005747</td>\n",
       "      <td>-0.058770</td>\n",
       "      <td>-0.344187</td>\n",
       "      <td>0.288223</td>\n",
       "      <td>1.000000</td>\n",
       "      <td>-0.577537</td>\n",
       "      <td>0.222682</td>\n",
       "      <td>0.210244</td>\n",
       "      <td>0.430696</td>\n",
       "    </tr>\n",
       "    <tr>\n",
       "      <th>slope</th>\n",
       "      <td>-0.168814</td>\n",
       "      <td>-0.030711</td>\n",
       "      <td>0.119717</td>\n",
       "      <td>-0.121475</td>\n",
       "      <td>-0.004038</td>\n",
       "      <td>-0.059894</td>\n",
       "      <td>0.093045</td>\n",
       "      <td>0.386784</td>\n",
       "      <td>-0.257748</td>\n",
       "      <td>-0.577537</td>\n",
       "      <td>1.000000</td>\n",
       "      <td>-0.080155</td>\n",
       "      <td>-0.104764</td>\n",
       "      <td>-0.345877</td>\n",
       "    </tr>\n",
       "    <tr>\n",
       "      <th>ca</th>\n",
       "      <td>0.276326</td>\n",
       "      <td>0.118261</td>\n",
       "      <td>-0.181053</td>\n",
       "      <td>0.101389</td>\n",
       "      <td>0.070511</td>\n",
       "      <td>0.137979</td>\n",
       "      <td>-0.072042</td>\n",
       "      <td>-0.213177</td>\n",
       "      <td>0.115739</td>\n",
       "      <td>0.222682</td>\n",
       "      <td>-0.080155</td>\n",
       "      <td>1.000000</td>\n",
       "      <td>0.151832</td>\n",
       "      <td>0.391724</td>\n",
       "    </tr>\n",
       "    <tr>\n",
       "      <th>thal</th>\n",
       "      <td>0.068001</td>\n",
       "      <td>0.210041</td>\n",
       "      <td>-0.161736</td>\n",
       "      <td>0.062210</td>\n",
       "      <td>0.098803</td>\n",
       "      <td>-0.032019</td>\n",
       "      <td>-0.011981</td>\n",
       "      <td>-0.096439</td>\n",
       "      <td>0.206754</td>\n",
       "      <td>0.210244</td>\n",
       "      <td>-0.104764</td>\n",
       "      <td>0.151832</td>\n",
       "      <td>1.000000</td>\n",
       "      <td>0.344029</td>\n",
       "    </tr>\n",
       "    <tr>\n",
       "      <th>sick</th>\n",
       "      <td>0.225439</td>\n",
       "      <td>0.280937</td>\n",
       "      <td>-0.433798</td>\n",
       "      <td>0.144931</td>\n",
       "      <td>0.085239</td>\n",
       "      <td>0.028046</td>\n",
       "      <td>-0.137230</td>\n",
       "      <td>-0.421741</td>\n",
       "      <td>0.436757</td>\n",
       "      <td>0.430696</td>\n",
       "      <td>-0.345877</td>\n",
       "      <td>0.391724</td>\n",
       "      <td>0.344029</td>\n",
       "      <td>1.000000</td>\n",
       "    </tr>\n",
       "  </tbody>\n",
       "</table>\n",
       "</div>"
      ],
      "text/plain": [
       "               age       sex        cp  trestbps      chol       fbs  \\\n",
       "age       1.000000 -0.098447 -0.068653  0.279351  0.213678  0.121308   \n",
       "sex      -0.098447  1.000000 -0.049353 -0.056769 -0.197912  0.045032   \n",
       "cp       -0.068653 -0.049353  1.000000  0.047608 -0.076904  0.094444   \n",
       "trestbps  0.279351 -0.056769  0.047608  1.000000  0.123174  0.177531   \n",
       "chol      0.213678 -0.197912 -0.076904  0.123174  1.000000  0.013294   \n",
       "fbs       0.121308  0.045032  0.094444  0.177531  0.013294  1.000000   \n",
       "restecg  -0.116211 -0.058196  0.044421 -0.114103 -0.151040 -0.084189   \n",
       "thalach  -0.398522 -0.044020  0.295762 -0.046698 -0.009940 -0.008567   \n",
       "exang     0.096801  0.141664 -0.394280  0.067616  0.067023  0.025665   \n",
       "oldpeak   0.210013  0.096093 -0.149230  0.193216  0.053952  0.005747   \n",
       "slope    -0.168814 -0.030711  0.119717 -0.121475 -0.004038 -0.059894   \n",
       "ca        0.276326  0.118261 -0.181053  0.101389  0.070511  0.137979   \n",
       "thal      0.068001  0.210041 -0.161736  0.062210  0.098803 -0.032019   \n",
       "sick      0.225439  0.280937 -0.433798  0.144931  0.085239  0.028046   \n",
       "\n",
       "           restecg   thalach     exang   oldpeak     slope        ca  \\\n",
       "age      -0.116211 -0.398522  0.096801  0.210013 -0.168814  0.276326   \n",
       "sex      -0.058196 -0.044020  0.141664  0.096093 -0.030711  0.118261   \n",
       "cp        0.044421  0.295762 -0.394280 -0.149230  0.119717 -0.181053   \n",
       "trestbps -0.114103 -0.046698  0.067616  0.193216 -0.121475  0.101389   \n",
       "chol     -0.151040 -0.009940  0.067023  0.053952 -0.004038  0.070511   \n",
       "fbs      -0.084189 -0.008567  0.025665  0.005747 -0.059894  0.137979   \n",
       "restecg   1.000000  0.044123 -0.070733 -0.058770  0.093045 -0.072042   \n",
       "thalach   0.044123  1.000000 -0.378812 -0.344187  0.386784 -0.213177   \n",
       "exang    -0.070733 -0.378812  1.000000  0.288223 -0.257748  0.115739   \n",
       "oldpeak  -0.058770 -0.344187  0.288223  1.000000 -0.577537  0.222682   \n",
       "slope     0.093045  0.386784 -0.257748 -0.577537  1.000000 -0.080155   \n",
       "ca       -0.072042 -0.213177  0.115739  0.222682 -0.080155  1.000000   \n",
       "thal     -0.011981 -0.096439  0.206754  0.210244 -0.104764  0.151832   \n",
       "sick     -0.137230 -0.421741  0.436757  0.430696 -0.345877  0.391724   \n",
       "\n",
       "              thal      sick  \n",
       "age       0.068001  0.225439  \n",
       "sex       0.210041  0.280937  \n",
       "cp       -0.161736 -0.433798  \n",
       "trestbps  0.062210  0.144931  \n",
       "chol      0.098803  0.085239  \n",
       "fbs      -0.032019  0.028046  \n",
       "restecg  -0.011981 -0.137230  \n",
       "thalach  -0.096439 -0.421741  \n",
       "exang     0.206754  0.436757  \n",
       "oldpeak   0.210244  0.430696  \n",
       "slope    -0.104764 -0.345877  \n",
       "ca        0.151832  0.391724  \n",
       "thal      1.000000  0.344029  \n",
       "sick      0.344029  1.000000  "
      ]
     },
     "execution_count": 104,
     "metadata": {},
     "output_type": "execute_result"
    }
   ],
   "source": [
    "#using a correlation matrix\n",
    "corr_matrix = df.corr()\n",
    "corr_matrix"
   ]
  },
  {
   "cell_type": "markdown",
   "id": "0a316238-193a-4f2e-969c-58210aa4a349",
   "metadata": {},
   "source": [
    "### Notes\n",
    "As we look at correlation matrix, we are able to see what types of factor seem to indicate heart disease.\n",
    "\n",
    "There seem to be strong inverse correlations to sickness with chest pain type (cp) and maximum heart rate achieved and maximium heart rate achieved (thalach). These two factors showing a strong inverse correlation seems to make sense intuitively. As the heart is located in the heart and pain is a signal from the body that attention is needed, a lack of chest pain is a positive sign typically showing that a person is healthy. Similarly a higher maximum heart rate achieved indicates a healthy heart rather than sickness. \n",
    "\n",
    "Then we have factors exercise induced angina (exang) and depression induced by exercise (oldpeak) having strong direct correlations. Angina is a medical term used to refer to heart pain or discomfort that occurs when part of your heart muscle does not get enough oxygen-rich blood. Having chest pain induced by excercise indicates that the heart is unable to perform at higher capacities and indicates possible illness. Similarly depression induced by exercise may lead someone not to excercise. As excercise is important to cardiovasular health depression induced by excercise can understandly lead to heart problems. Another factor with a strong direct correlation is the number of major vessel colored by a flouroscopy (ca). With fluoroscopy, doctors aim to see the movement of blood through the vessels in the heart. If a vessel is not performing well or is blocked will be indicated by the fluoroscopy. A higher number of weak or blocked blood vessels shows worse heart health and therefore may be an indicator of heart disease. \n",
    "\n"
   ]
  },
  {
   "cell_type": "markdown",
   "id": "93eb1bad-6336-489a-9de5-133f29547c64",
   "metadata": {},
   "source": [
    "## __Prep Data__ \n",
    "\n",
    "With this section, we aim to process the data so that we are able to draw out more accurate information about the data. We have three types of data as it seems (binary, selection, and gradient). For our binary and selection data, we will be opting to use One Hot Encoding in order to bring more dimension to the data. Adding more dimension to the data will allow the model to have more information to learn from and ultimately be more accurate when learning from the data. For our gradient data, we will be using a standard scaler. The standard scaler removes the mean and scales each feature/variable to unit variance. In the context finding what factors lead to heart disease, outliers heavily skewing our data may be deterimental as the information is to be applied to a general population. \n",
    "\n",
    "Something we need to note is that when we split the data, we need to use a random state so that we are able to accurately reproduce splits to be used on different algorithms. As we are currently seeing what algorithms are most optimal, we need to be have accurate splits."
   ]
  },
  {
   "cell_type": "code",
   "execution_count": 105,
   "id": "2ab5b781-ccd8-455d-8a3b-f82a17153eff",
   "metadata": {},
   "outputs": [
    {
     "name": "stdout",
     "output_type": "stream",
     "text": [
      "training data shapes: (242, 13) (242,)\n",
      "test data shapes: (61, 13) (61,)\n"
     ]
    }
   ],
   "source": [
    "#dropping the sick column \n",
    "y = df['sick']\n",
    "x = df.drop(['sick'], axis = 1)\n",
    "\n",
    "#split data\n",
    "X_train, X_test, y_train, y_test = train_test_split(x, y, test_size=0.2, random_state = 8)\n",
    "\n",
    "#dimensions of the test and training data\n",
    "print('training data shapes:', X_train.shape, y_train.shape)\n",
    "print('test data shapes:', X_test.shape, y_test.shape)"
   ]
  },
  {
   "cell_type": "markdown",
   "id": "53b0205f-0e13-40bd-a87a-ca283c5d325e",
   "metadata": {},
   "source": [
    "### Building Our Pipeline"
   ]
  },
  {
   "cell_type": "code",
   "execution_count": 106,
   "id": "ac87400c-59fd-4f43-b55f-58a09f817fda",
   "metadata": {},
   "outputs": [],
   "source": [
    "#libraries to build our pipeline\n",
    "from sklearn.impute import SimpleImputer\n",
    "from sklearn.compose import ColumnTransformer\n",
    "from sklearn.pipeline import Pipeline\n",
    "from sklearn.preprocessing import StandardScaler\n",
    "from sklearn.preprocessing import OneHotEncoder\n",
    "from sklearn.base import BaseEstimator, TransformerMixin\n",
    "\n",
    "#categorize data to be processed \n",
    "categorical_features = selection + binary\n",
    "numerical_features = gradient\n",
    "\n",
    "#build pipeline\n",
    "num_pipeline = Pipeline([\n",
    "        ('imputer', SimpleImputer(strategy=\"median\")),\n",
    "        ('std_scaler', StandardScaler()),\n",
    "    ])\n",
    "\n",
    "cat_pipeline = OneHotEncoder(categories='auto', handle_unknown='ignore')\n",
    "\n",
    "full_pipeline = ColumnTransformer([\n",
    "        (\"num\", num_pipeline, numerical_features),\n",
    "        (\"cat\", cat_pipeline, categorical_features),\n",
    "    ])\n",
    "\n",
    "#put data through pipeline\n",
    "x_pipelined = full_pipeline.fit_transform(x)"
   ]
  },
  {
   "cell_type": "code",
   "execution_count": 107,
   "id": "7e644f0f-801b-49c3-a76f-c2c188f89fbf",
   "metadata": {},
   "outputs": [
    {
     "name": "stdout",
     "output_type": "stream",
     "text": [
      "training data shapes: (242, 30) (242,)\n",
      "test data shapes: (61, 30) (61,)\n"
     ]
    }
   ],
   "source": [
    "#split data\n",
    "xtrain, xtest, ytrain, ytest = train_test_split(x_pipelined, y, test_size = 0.2, random_state = 8)\n",
    "\n",
    "#seeing shapes for sanity check\n",
    "print('training data shapes:', xtrain.shape, ytrain.shape)\n",
    "print('test data shapes:', xtest.shape, ytest.shape)"
   ]
  },
  {
   "cell_type": "markdown",
   "id": "6be36859-cb00-43a5-9478-ea9de362a33b",
   "metadata": {},
   "source": [
    "## __Classifiers__\n",
    "\n",
    "In this next section, we will be working wiht different classifiers in order to see how well they are able to predict if a person may be sick or healthy. We will be going through a few different classifers and then seeing what we can do in order to optimize them. "
   ]
  },
  {
   "cell_type": "markdown",
   "id": "d18d4c1e-cd13-4e61-b508-aaacc00d4c7f",
   "metadata": {},
   "source": [
    "### Metrics\n",
    "\n",
    "The metrics we will be using to determine the performance of a model will include accuracy, precisio, recall, and F1.\n",
    "\n",
    "The accuracy, precision, recall, and F1 score are all methods of assessing the performance of a model with each slightly differing in how they are calculated. \n",
    "\n",
    "    Note: \n",
    "    - TP: true positive\n",
    "    - FP: false positve\n",
    "    - TN: true negative\n",
    "    - FN: false negative \n",
    "  \n",
    " \n",
    "\n",
    "The accuracy is a measurement of the number of correct predictions the model has made. \n",
    "It is calculated with the equation:\n",
    "    \n",
    "    accuracy = (TP + TN) / (TP + FP + TN + FN) \n",
    "The accuracy is important as it allows us to see how correct our is. Generally we would want to use the accuracy score as a factor in measuring performance as it is generally easy to understand. If the accuracy is high, then we would generally want to use this factor for assessment. \n",
    "\n",
    "<br>\n",
    "\n",
    "The precision is the number of positive predicitons that belong to the postive class.\n",
    "It is calculated by the equation:\n",
    "    \n",
    "    precision = TP / (TP + FP)\n",
    "The precssion will check proportions of correct positive identificaitons as it is the ratio of correct positives to the total numbers of positives. It is also directly related the amount of false positives in the data.\n",
    "\n",
    "\n",
    "<br>\n",
    "\n",
    "The recall is how good a test is at detecting the postives.\n",
    "It is generated with the equation:\n",
    "   \n",
    "    recall = TP / (TP + FN) \n",
    "   \n",
    "The recall is will check the model to see if it overlooking positives by checking the false negatives. As it is the ratio of predicted positives to all positives, it can be used to make sure we are not neglecting data that is wrong. \n",
    "\n",
    "<br>\n",
    "\n",
    "The F1 score aims to minimize error perfomance in general. The score is a weighted average of the precision and recall.  \n",
    "It is calcuated by the equation:\n",
    "   \n",
    "    F1 = (2 * (recall * precision)) / (recall + precision)\n",
    "    \n",
    "The F1 score is a balance between the recall and precision equations. By using both the precision and recall, it accounts for both the errors looked at in the recall and precision. \n",
    "    \n",
    "<br>\n",
    "\n",
    "Generally we would want to use the accuracy score when the true positives and true negatives are the most prevalent values in our confusion matrix. We would use the F1 score if the false positives and the false negatives are the most prevalent values. Then if false positives are the most significant values, then we would want to use the precision. If the false negatives are the most abundant values."
   ]
  },
  {
   "cell_type": "code",
   "execution_count": 108,
   "id": "687ecad3-29b3-43d7-af18-d3f47352a825",
   "metadata": {},
   "outputs": [],
   "source": [
    "def scores(model, xtrain, xtest, ytrain, ytest, model_name):\n",
    "    #train model \n",
    "    model.fit(xtrain, ytrain) \n",
    "\n",
    "    #predictions \n",
    "    train_prediction = model.predict(xtrain)\n",
    "    test_prediction = model.predict(xtest)\n",
    "\n",
    "    #accuracy score \n",
    "    train_accuracy = metrics.accuracy_score(ytrain, train_prediction)\n",
    "    test_accuracy = metrics.accuracy_score(ytest, test_prediction) \n",
    "\n",
    "    #precision score\n",
    "    train_precision = metrics.precision_score(ytrain, train_prediction)\n",
    "    test_precision = metrics.precision_score(ytest, test_prediction)\n",
    "\n",
    "    #recall score\n",
    "    train_recall = metrics.recall_score(ytrain, train_prediction)\n",
    "    test_recall = metrics.recall_score(ytest, test_prediction) \n",
    "\n",
    "    #f1 score \n",
    "    train_f1 = metrics.f1_score(ytrain, train_prediction)\n",
    "    test_f1 = metrics.f1_score(ytest, test_prediction) \n",
    "\n",
    "    #build pandas df to display data\n",
    "    data = {\n",
    "        'Training' : [train_accuracy, train_precision, train_recall, train_f1],\n",
    "        'Testing' : [test_accuracy, test_precision, test_recall, test_f1]\n",
    "    }\n",
    "    \n",
    "    df = pd.DataFrame(data, index=['Accuracy Score', \n",
    "                               'Precision Score', \n",
    "                               'Recall Score', \n",
    "                               'F1 Score'])\n",
    "    df.columns.name = model_name\n",
    "\n",
    "    return df"
   ]
  },
  {
   "cell_type": "code",
   "execution_count": 109,
   "id": "77d41b18-7a13-4ed8-b677-df41710a60ac",
   "metadata": {},
   "outputs": [],
   "source": [
    "#confusion matrix\n",
    "def matrix(model, xtrain, xtest, ytrain, ytest, model_name):\n",
    "    #train model \n",
    "    model.fit(xtrain, ytrain) \n",
    "\n",
    "    #predictions for matrix\n",
    "    predictions = model.predict(xtest)\n",
    "\n",
    "    #generate confusion matrix\n",
    "    cm = confusion_matrix(ytest, predictions)\n",
    "    disp = ConfusionMatrixDisplay(confusion_matrix=cm)\n",
    "\n",
    "    #display confusion matrix\n",
    "    disp.plot(cmap = 'Blues')\n",
    "    fig = disp.figure_\n",
    "    fig.set_figwidth(4)\n",
    "    fig.set_figheight(4) \n",
    "    plt.title(model_name + ' confusion matrix')\n",
    "    plt.show()"
   ]
  },
  {
   "cell_type": "markdown",
   "id": "745d2879-8b52-40aa-9616-cdf03416ad45",
   "metadata": {},
   "source": [
    "### K-Nearest Neighbors\n",
    "The first classifier we are going to use to K-Nearest Neighbors (knn). The KNN classifier operates by finding the k nearest neighbors to a given data point, and it takes the majority vote to classify the data point. "
   ]
  },
  {
   "cell_type": "code",
   "execution_count": 110,
   "id": "d9416a29-5812-4767-be92-c85021bee899",
   "metadata": {},
   "outputs": [
    {
     "data": {
      "text/html": [
       "<div>\n",
       "<style scoped>\n",
       "    .dataframe tbody tr th:only-of-type {\n",
       "        vertical-align: middle;\n",
       "    }\n",
       "\n",
       "    .dataframe tbody tr th {\n",
       "        vertical-align: top;\n",
       "    }\n",
       "\n",
       "    .dataframe thead th {\n",
       "        text-align: right;\n",
       "    }\n",
       "</style>\n",
       "<table border=\"1\" class=\"dataframe\">\n",
       "  <thead>\n",
       "    <tr style=\"text-align: right;\">\n",
       "      <th>KNN</th>\n",
       "      <th>Training</th>\n",
       "      <th>Testing</th>\n",
       "    </tr>\n",
       "  </thead>\n",
       "  <tbody>\n",
       "    <tr>\n",
       "      <th>Accuracy Score</th>\n",
       "      <td>0.884298</td>\n",
       "      <td>0.852459</td>\n",
       "    </tr>\n",
       "    <tr>\n",
       "      <th>Precision Score</th>\n",
       "      <td>0.880734</td>\n",
       "      <td>0.875000</td>\n",
       "    </tr>\n",
       "    <tr>\n",
       "      <th>Recall Score</th>\n",
       "      <td>0.864865</td>\n",
       "      <td>0.777778</td>\n",
       "    </tr>\n",
       "    <tr>\n",
       "      <th>F1 Score</th>\n",
       "      <td>0.872727</td>\n",
       "      <td>0.823529</td>\n",
       "    </tr>\n",
       "  </tbody>\n",
       "</table>\n",
       "</div>"
      ],
      "text/plain": [
       "KNN              Training   Testing\n",
       "Accuracy Score   0.884298  0.852459\n",
       "Precision Score  0.880734  0.875000\n",
       "Recall Score     0.864865  0.777778\n",
       "F1 Score         0.872727  0.823529"
      ]
     },
     "execution_count": 110,
     "metadata": {},
     "output_type": "execute_result"
    }
   ],
   "source": [
    "#knn model\n",
    "knn = KNeighborsClassifier()\n",
    "knn_scores = scores(knn, xtrain, xtest, ytrain, ytest, 'KNN')\n",
    "knn_scores"
   ]
  },
  {
   "cell_type": "code",
   "execution_count": 111,
   "id": "71f83454-744b-4448-a591-ed7cf41eaf77",
   "metadata": {},
   "outputs": [
    {
     "data": {
      "image/png": "[encoded data removed]",
      "text/plain": [
       "<Figure size 400x400 with 2 Axes>"
      ]
     },
     "metadata": {},
     "output_type": "display_data"
    }
   ],
   "source": [
    "matrix(knn, xtrain, xtest, ytrain, ytest, 'KNN')"
   ]
  },
  {
   "cell_type": "markdown",
   "id": "b99e19d6-cdf6-42f2-a4b3-eb8f8d604b85",
   "metadata": {},
   "source": [
    "### Logistic Regression\n",
    "Next we will be looking at using a logisitc regression model. Logistic regression is a statistical model that in its basic form uses a logistic function to model a binary dependent variable. This model works well with our goal as we are aiming to determine whether a person is sick or healthy. "
   ]
  },
  {
   "cell_type": "code",
   "execution_count": 112,
   "id": "c1bef781-dcb6-4de3-b933-839ca591cc57",
   "metadata": {},
   "outputs": [
    {
     "data": {
      "text/html": [
       "<div>\n",
       "<style scoped>\n",
       "    .dataframe tbody tr th:only-of-type {\n",
       "        vertical-align: middle;\n",
       "    }\n",
       "\n",
       "    .dataframe tbody tr th {\n",
       "        vertical-align: top;\n",
       "    }\n",
       "\n",
       "    .dataframe thead th {\n",
       "        text-align: right;\n",
       "    }\n",
       "</style>\n",
       "<table border=\"1\" class=\"dataframe\">\n",
       "  <thead>\n",
       "    <tr style=\"text-align: right;\">\n",
       "      <th>Logistic Regression</th>\n",
       "      <th>Training</th>\n",
       "      <th>Testing</th>\n",
       "    </tr>\n",
       "  </thead>\n",
       "  <tbody>\n",
       "    <tr>\n",
       "      <th>Accuracy Score</th>\n",
       "      <td>0.876033</td>\n",
       "      <td>0.885246</td>\n",
       "    </tr>\n",
       "    <tr>\n",
       "      <th>Precision Score</th>\n",
       "      <td>0.885714</td>\n",
       "      <td>0.884615</td>\n",
       "    </tr>\n",
       "    <tr>\n",
       "      <th>Recall Score</th>\n",
       "      <td>0.837838</td>\n",
       "      <td>0.851852</td>\n",
       "    </tr>\n",
       "    <tr>\n",
       "      <th>F1 Score</th>\n",
       "      <td>0.861111</td>\n",
       "      <td>0.867925</td>\n",
       "    </tr>\n",
       "  </tbody>\n",
       "</table>\n",
       "</div>"
      ],
      "text/plain": [
       "Logistic Regression  Training   Testing\n",
       "Accuracy Score       0.876033  0.885246\n",
       "Precision Score      0.885714  0.884615\n",
       "Recall Score         0.837838  0.851852\n",
       "F1 Score             0.861111  0.867925"
      ]
     },
     "execution_count": 112,
     "metadata": {},
     "output_type": "execute_result"
    }
   ],
   "source": [
    "lr = LogisticRegression()\n",
    "lr_scores = scores(lr, xtrain, xtest, ytrain, ytest, 'Logistic Regression')\n",
    "lr_scores"
   ]
  },
  {
   "cell_type": "code",
   "execution_count": 113,
   "id": "4041586e-ed29-4176-9b92-b5f29eac01b6",
   "metadata": {},
   "outputs": [
    {
     "data": {
      "image/png": "[encoded data removed]",
      "text/plain": [
       "<Figure size 400x400 with 2 Axes>"
      ]
     },
     "metadata": {},
     "output_type": "display_data"
    }
   ],
   "source": [
    "matrix(lr, xtrain, xtest, ytrain, ytest, 'Logistic Regression')"
   ]
  },
  {
   "cell_type": "markdown",
   "id": "b099ccd5-f34b-4858-bf22-b3dc67220159",
   "metadata": {},
   "source": [
    "### Gaussian Naive Bayes\n",
    "\n",
    "The next model will be trained with a navies bayes algorithm, and in this case we will be using a Gaussian version. The algorithm works by being able to analyze features of the model independently. This means a modificaiton of one feature will not have an effect on the other features within the algorithm. The gaussian aspect of the model works to implement a normal distribution for our data."
   ]
  },
  {
   "cell_type": "code",
   "execution_count": 114,
   "id": "dffc879e-8345-4207-957b-418a2314a3a7",
   "metadata": {},
   "outputs": [
    {
     "data": {
      "text/html": [
       "<div>\n",
       "<style scoped>\n",
       "    .dataframe tbody tr th:only-of-type {\n",
       "        vertical-align: middle;\n",
       "    }\n",
       "\n",
       "    .dataframe tbody tr th {\n",
       "        vertical-align: top;\n",
       "    }\n",
       "\n",
       "    .dataframe thead th {\n",
       "        text-align: right;\n",
       "    }\n",
       "</style>\n",
       "<table border=\"1\" class=\"dataframe\">\n",
       "  <thead>\n",
       "    <tr style=\"text-align: right;\">\n",
       "      <th>Gaussian Naive Bayes</th>\n",
       "      <th>Training</th>\n",
       "      <th>Testing</th>\n",
       "    </tr>\n",
       "  </thead>\n",
       "  <tbody>\n",
       "    <tr>\n",
       "      <th>Accuracy Score</th>\n",
       "      <td>0.830579</td>\n",
       "      <td>0.868852</td>\n",
       "    </tr>\n",
       "    <tr>\n",
       "      <th>Precision Score</th>\n",
       "      <td>0.830189</td>\n",
       "      <td>0.851852</td>\n",
       "    </tr>\n",
       "    <tr>\n",
       "      <th>Recall Score</th>\n",
       "      <td>0.792793</td>\n",
       "      <td>0.851852</td>\n",
       "    </tr>\n",
       "    <tr>\n",
       "      <th>F1 Score</th>\n",
       "      <td>0.811060</td>\n",
       "      <td>0.851852</td>\n",
       "    </tr>\n",
       "  </tbody>\n",
       "</table>\n",
       "</div>"
      ],
      "text/plain": [
       "Gaussian Naive Bayes  Training   Testing\n",
       "Accuracy Score        0.830579  0.868852\n",
       "Precision Score       0.830189  0.851852\n",
       "Recall Score          0.792793  0.851852\n",
       "F1 Score              0.811060  0.851852"
      ]
     },
     "execution_count": 114,
     "metadata": {},
     "output_type": "execute_result"
    }
   ],
   "source": [
    "gnb = GaussianNB()\n",
    "gnb_scores = scores(gnb, xtrain, xtest, ytrain, ytest, 'Gaussian Naive Bayes')\n",
    "gnb_scores"
   ]
  },
  {
   "cell_type": "code",
   "execution_count": 115,
   "id": "f10132f1-56f3-4699-b183-341f0ab4f769",
   "metadata": {},
   "outputs": [
    {
     "data": {
      "image/png": "[encoded data removed]",
      "text/plain": [
       "<Figure size 400x400 with 2 Axes>"
      ]
     },
     "metadata": {},
     "output_type": "display_data"
    }
   ],
   "source": [
    "matrix(gnb, xtrain, xtest, ytrain, ytest, 'Gaussian Naive Bayes')"
   ]
  },
  {
   "cell_type": "markdown",
   "id": "8f051499-b1ff-4ef5-89e3-a9fa92b28c9a",
   "metadata": {},
   "source": [
    "### Support Vector Machine\n",
    "Lastly, we will be using a support vector machine to train our model. A support vector machine (SVM) is a discriminative classifier formally defined by a separating hyperplane. In other words, given labeled training data (supervised learning), the algorithm outputs an optimal hyperplane which categorizes new examples. In 2-D space this hyperplane is a line dividing a plane in two parts where in each class lay in either side."
   ]
  },
  {
   "cell_type": "code",
   "execution_count": 116,
   "id": "e4cc2429-c9ee-4251-81a8-4a951f0b184d",
   "metadata": {},
   "outputs": [
    {
     "data": {
      "text/html": [
       "<div>\n",
       "<style scoped>\n",
       "    .dataframe tbody tr th:only-of-type {\n",
       "        vertical-align: middle;\n",
       "    }\n",
       "\n",
       "    .dataframe tbody tr th {\n",
       "        vertical-align: top;\n",
       "    }\n",
       "\n",
       "    .dataframe thead th {\n",
       "        text-align: right;\n",
       "    }\n",
       "</style>\n",
       "<table border=\"1\" class=\"dataframe\">\n",
       "  <thead>\n",
       "    <tr style=\"text-align: right;\">\n",
       "      <th>Support Vector Machine</th>\n",
       "      <th>Training</th>\n",
       "      <th>Testing</th>\n",
       "    </tr>\n",
       "  </thead>\n",
       "  <tbody>\n",
       "    <tr>\n",
       "      <th>Accuracy Score</th>\n",
       "      <td>0.925620</td>\n",
       "      <td>0.868852</td>\n",
       "    </tr>\n",
       "    <tr>\n",
       "      <th>Precision Score</th>\n",
       "      <td>0.934579</td>\n",
       "      <td>0.880000</td>\n",
       "    </tr>\n",
       "    <tr>\n",
       "      <th>Recall Score</th>\n",
       "      <td>0.900901</td>\n",
       "      <td>0.814815</td>\n",
       "    </tr>\n",
       "    <tr>\n",
       "      <th>F1 Score</th>\n",
       "      <td>0.917431</td>\n",
       "      <td>0.846154</td>\n",
       "    </tr>\n",
       "  </tbody>\n",
       "</table>\n",
       "</div>"
      ],
      "text/plain": [
       "Support Vector Machine  Training   Testing\n",
       "Accuracy Score          0.925620  0.868852\n",
       "Precision Score         0.934579  0.880000\n",
       "Recall Score            0.900901  0.814815\n",
       "F1 Score                0.917431  0.846154"
      ]
     },
     "execution_count": 116,
     "metadata": {},
     "output_type": "execute_result"
    }
   ],
   "source": [
    "svm = SVC()\n",
    "svm_scores = scores(svm, xtrain, xtest, ytrain, ytest, 'Support Vector Machine')\n",
    "svm_scores"
   ]
  },
  {
   "cell_type": "markdown",
   "id": "3865059c-bf9d-4447-98a5-55868b7e8ccc",
   "metadata": {},
   "source": [
    "## Applying the Classifiers\n",
    "In this next part, we will be using the classifiers to find the best combination of 3 characteristics to help indicate whether or not a person has heart disease."
   ]
  },
  {
   "cell_type": "code",
   "execution_count": 117,
   "id": "ce053e5a-ea07-431c-a2d4-d228416dd2ea",
   "metadata": {},
   "outputs": [],
   "source": [
    "from itertools import combinations, product\n",
    "from sksurv.preprocessing import OneHotEncoder\n",
    "cols = list(x.columns)\n",
    "combos = list(combinations(cols, 3))\n",
    "\n",
    "#classisfers\n",
    "classifiers = [\n",
    "    [KNeighborsClassifier(), 'KNN'],\n",
    "    [LogisticRegression(), 'Logistic Regression'],\n",
    "    [GaussianNB(), 'Gaussian Naives Bayes'],\n",
    "    [SVC(), 'Support Vector Machine']\n",
    "    \n",
    "]\n",
    "\n",
    "all_scores = []\n",
    "\n",
    "for combo in combos: \n",
    "    #dataframe with current features \n",
    "    temp = x[[col for col in combo]]\n",
    "\n",
    "\n",
    "    num_pipeline = Pipeline([\n",
    "        ('imputer', SimpleImputer(strategy=\"median\")),\n",
    "        ('std_scaler', StandardScaler()),\n",
    "    ])\n",
    "\n",
    "    cat_pipeline = OneHotEncoder()\n",
    "\n",
    "    #pipeline for current features \n",
    "    num_features = [feature for feature in combo if feature in numerical_features]\n",
    "    cat_features = [feature for feature in combo if feature in categorical_features]\n",
    "\n",
    "    temp_pipeline = ColumnTransformer([\n",
    "            (\"num\", num_pipeline, num_features),\n",
    "            (\"cat\", cat_pipeline, cat_features),\n",
    "        ])\n",
    "    x_piped = temp_pipeline.fit_transform(temp)\n",
    "    x_train, x_test, y_train, y_test = train_test_split(x_piped, y, test_size = 0.2, random_state = 8)\n",
    "\n",
    "    for classifier in classifiers:\n",
    "        classifier_algo = classifier[0]\n",
    "        classifier_name = classifier[1]\n",
    "     \n",
    "        classifier_score = scores(classifier_algo, x_train, x_test, y_train, y_test, classifier_name)\n",
    "\n",
    "        all_scores.append([combo, classifier_name,classifier_score['Testing']['Accuracy Score']] )\n"
   ]
  },
  {
   "cell_type": "code",
   "execution_count": 118,
   "id": "16fbe96e-78ed-4477-b4b1-4284628c10b0",
   "metadata": {},
   "outputs": [
    {
     "data": {
      "text/html": [
       "<div>\n",
       "<style scoped>\n",
       "    .dataframe tbody tr th:only-of-type {\n",
       "        vertical-align: middle;\n",
       "    }\n",
       "\n",
       "    .dataframe tbody tr th {\n",
       "        vertical-align: top;\n",
       "    }\n",
       "\n",
       "    .dataframe thead th {\n",
       "        text-align: right;\n",
       "    }\n",
       "</style>\n",
       "<table border=\"1\" class=\"dataframe\">\n",
       "  <thead>\n",
       "    <tr style=\"text-align: right;\">\n",
       "      <th></th>\n",
       "      <th>Combo</th>\n",
       "      <th>Classifier</th>\n",
       "      <th>Accuracy Score</th>\n",
       "    </tr>\n",
       "  </thead>\n",
       "  <tbody>\n",
       "    <tr>\n",
       "      <th>0</th>\n",
       "      <td>(age, sex, cp)</td>\n",
       "      <td>KNN</td>\n",
       "      <td>0.754098</td>\n",
       "    </tr>\n",
       "    <tr>\n",
       "      <th>1</th>\n",
       "      <td>(age, sex, cp)</td>\n",
       "      <td>Logistic Regression</td>\n",
       "      <td>0.737705</td>\n",
       "    </tr>\n",
       "    <tr>\n",
       "      <th>2</th>\n",
       "      <td>(age, sex, cp)</td>\n",
       "      <td>Gaussian Naives Bayes</td>\n",
       "      <td>0.704918</td>\n",
       "    </tr>\n",
       "    <tr>\n",
       "      <th>3</th>\n",
       "      <td>(age, sex, cp)</td>\n",
       "      <td>Support Vector Machine</td>\n",
       "      <td>0.852459</td>\n",
       "    </tr>\n",
       "    <tr>\n",
       "      <th>4</th>\n",
       "      <td>(age, sex, trestbps)</td>\n",
       "      <td>KNN</td>\n",
       "      <td>0.606557</td>\n",
       "    </tr>\n",
       "    <tr>\n",
       "      <th>5</th>\n",
       "      <td>(age, sex, trestbps)</td>\n",
       "      <td>Logistic Regression</td>\n",
       "      <td>0.622951</td>\n",
       "    </tr>\n",
       "    <tr>\n",
       "      <th>6</th>\n",
       "      <td>(age, sex, trestbps)</td>\n",
       "      <td>Gaussian Naives Bayes</td>\n",
       "      <td>0.606557</td>\n",
       "    </tr>\n",
       "    <tr>\n",
       "      <th>7</th>\n",
       "      <td>(age, sex, trestbps)</td>\n",
       "      <td>Support Vector Machine</td>\n",
       "      <td>0.606557</td>\n",
       "    </tr>\n",
       "    <tr>\n",
       "      <th>8</th>\n",
       "      <td>(age, sex, chol)</td>\n",
       "      <td>KNN</td>\n",
       "      <td>0.540984</td>\n",
       "    </tr>\n",
       "    <tr>\n",
       "      <th>9</th>\n",
       "      <td>(age, sex, chol)</td>\n",
       "      <td>Logistic Regression</td>\n",
       "      <td>0.573770</td>\n",
       "    </tr>\n",
       "    <tr>\n",
       "      <th>10</th>\n",
       "      <td>(age, sex, chol)</td>\n",
       "      <td>Gaussian Naives Bayes</td>\n",
       "      <td>0.557377</td>\n",
       "    </tr>\n",
       "    <tr>\n",
       "      <th>11</th>\n",
       "      <td>(age, sex, chol)</td>\n",
       "      <td>Support Vector Machine</td>\n",
       "      <td>0.573770</td>\n",
       "    </tr>\n",
       "  </tbody>\n",
       "</table>\n",
       "</div>"
      ],
      "text/plain": [
       "                   Combo              Classifier  Accuracy Score\n",
       "0         (age, sex, cp)                     KNN        0.754098\n",
       "1         (age, sex, cp)     Logistic Regression        0.737705\n",
       "2         (age, sex, cp)   Gaussian Naives Bayes        0.704918\n",
       "3         (age, sex, cp)  Support Vector Machine        0.852459\n",
       "4   (age, sex, trestbps)                     KNN        0.606557\n",
       "5   (age, sex, trestbps)     Logistic Regression        0.622951\n",
       "6   (age, sex, trestbps)   Gaussian Naives Bayes        0.606557\n",
       "7   (age, sex, trestbps)  Support Vector Machine        0.606557\n",
       "8       (age, sex, chol)                     KNN        0.540984\n",
       "9       (age, sex, chol)     Logistic Regression        0.573770\n",
       "10      (age, sex, chol)   Gaussian Naives Bayes        0.557377\n",
       "11      (age, sex, chol)  Support Vector Machine        0.573770"
      ]
     },
     "execution_count": 118,
     "metadata": {},
     "output_type": "execute_result"
    }
   ],
   "source": [
    "#convert into data frame\n",
    "df = pd.DataFrame(all_scores , columns = ['Combo', 'Classifier', 'Accuracy Score'])\n",
    "df.head(12)"
   ]
  },
  {
   "cell_type": "code",
   "execution_count": 136,
   "id": "a1559ab6-8354-403a-8957-589f27bd6da0",
   "metadata": {},
   "outputs": [
    {
     "data": {
      "text/html": [
       "<div>\n",
       "<style scoped>\n",
       "    .dataframe tbody tr th:only-of-type {\n",
       "        vertical-align: middle;\n",
       "    }\n",
       "\n",
       "    .dataframe tbody tr th {\n",
       "        vertical-align: top;\n",
       "    }\n",
       "\n",
       "    .dataframe thead th {\n",
       "        text-align: right;\n",
       "    }\n",
       "</style>\n",
       "<table border=\"1\" class=\"dataframe\">\n",
       "  <thead>\n",
       "    <tr style=\"text-align: right;\">\n",
       "      <th></th>\n",
       "      <th>Accuracy Score</th>\n",
       "    </tr>\n",
       "    <tr>\n",
       "      <th>Combo</th>\n",
       "      <th></th>\n",
       "    </tr>\n",
       "  </thead>\n",
       "  <tbody>\n",
       "    <tr>\n",
       "      <th>(cp, exang, ca)</th>\n",
       "      <td>0.889344</td>\n",
       "    </tr>\n",
       "    <tr>\n",
       "      <th>(cp, restecg, exang)</th>\n",
       "      <td>0.881148</td>\n",
       "    </tr>\n",
       "    <tr>\n",
       "      <th>(exang, ca, thal)</th>\n",
       "      <td>0.877049</td>\n",
       "    </tr>\n",
       "    <tr>\n",
       "      <th>(cp, thalach, ca)</th>\n",
       "      <td>0.864754</td>\n",
       "    </tr>\n",
       "    <tr>\n",
       "      <th>(cp, ca, thal)</th>\n",
       "      <td>0.860656</td>\n",
       "    </tr>\n",
       "  </tbody>\n",
       "</table>\n",
       "</div>"
      ],
      "text/plain": [
       "                      Accuracy Score\n",
       "Combo                               \n",
       "(cp, exang, ca)             0.889344\n",
       "(cp, restecg, exang)        0.881148\n",
       "(exang, ca, thal)           0.877049\n",
       "(cp, thalach, ca)           0.864754\n",
       "(cp, ca, thal)              0.860656"
      ]
     },
     "execution_count": 136,
     "metadata": {},
     "output_type": "execute_result"
    }
   ],
   "source": [
    "#find average score across all classifiers \n",
    "temp = df\n",
    "temp = df.drop(['Classifier'], axis = 1)\n",
    "temp = temp.groupby('Combo').mean()\n",
    "temp = temp.sort_values(by = ['Accuracy Score'], ascending = False)\n",
    "temp.head()"
   ]
  },
  {
   "cell_type": "code",
   "execution_count": 141,
   "id": "bdb5327d-1f61-4524-b770-d3a541012631",
   "metadata": {},
   "outputs": [
    {
     "data": {
      "text/html": [
       "<div>\n",
       "<style scoped>\n",
       "    .dataframe tbody tr th:only-of-type {\n",
       "        vertical-align: middle;\n",
       "    }\n",
       "\n",
       "    .dataframe tbody tr th {\n",
       "        vertical-align: top;\n",
       "    }\n",
       "\n",
       "    .dataframe thead th {\n",
       "        text-align: right;\n",
       "    }\n",
       "</style>\n",
       "<table border=\"1\" class=\"dataframe\">\n",
       "  <thead>\n",
       "    <tr style=\"text-align: right;\">\n",
       "      <th></th>\n",
       "      <th>Combo</th>\n",
       "      <th>Classifier</th>\n",
       "      <th>Accuracy Score</th>\n",
       "    </tr>\n",
       "  </thead>\n",
       "  <tbody>\n",
       "    <tr>\n",
       "      <th>633</th>\n",
       "      <td>(cp, exang, ca)</td>\n",
       "      <td>Logistic Regression</td>\n",
       "      <td>0.934426</td>\n",
       "    </tr>\n",
       "    <tr>\n",
       "      <th>634</th>\n",
       "      <td>(cp, exang, ca)</td>\n",
       "      <td>Gaussian Naives Bayes</td>\n",
       "      <td>0.918033</td>\n",
       "    </tr>\n",
       "    <tr>\n",
       "      <th>1126</th>\n",
       "      <td>(exang, ca, thal)</td>\n",
       "      <td>Gaussian Naives Bayes</td>\n",
       "      <td>0.901639</td>\n",
       "    </tr>\n",
       "    <tr>\n",
       "      <th>285</th>\n",
       "      <td>(sex, cp, exang)</td>\n",
       "      <td>Logistic Regression</td>\n",
       "      <td>0.901639</td>\n",
       "    </tr>\n",
       "    <tr>\n",
       "      <th>286</th>\n",
       "      <td>(sex, cp, exang)</td>\n",
       "      <td>Gaussian Naives Bayes</td>\n",
       "      <td>0.901639</td>\n",
       "    </tr>\n",
       "    <tr>\n",
       "      <th>638</th>\n",
       "      <td>(cp, exang, thal)</td>\n",
       "      <td>Gaussian Naives Bayes</td>\n",
       "      <td>0.901639</td>\n",
       "    </tr>\n",
       "    <tr>\n",
       "      <th>635</th>\n",
       "      <td>(cp, exang, ca)</td>\n",
       "      <td>Support Vector Machine</td>\n",
       "      <td>0.901639</td>\n",
       "    </tr>\n",
       "    <tr>\n",
       "      <th>234</th>\n",
       "      <td>(age, exang, ca)</td>\n",
       "      <td>Gaussian Naives Bayes</td>\n",
       "      <td>0.901639</td>\n",
       "    </tr>\n",
       "    <tr>\n",
       "      <th>585</th>\n",
       "      <td>(cp, restecg, exang)</td>\n",
       "      <td>Logistic Regression</td>\n",
       "      <td>0.901639</td>\n",
       "    </tr>\n",
       "    <tr>\n",
       "      <th>545</th>\n",
       "      <td>(cp, chol, ca)</td>\n",
       "      <td>Logistic Regression</td>\n",
       "      <td>0.901639</td>\n",
       "    </tr>\n",
       "    <tr>\n",
       "      <th>586</th>\n",
       "      <td>(cp, restecg, exang)</td>\n",
       "      <td>Gaussian Naives Bayes</td>\n",
       "      <td>0.885246</td>\n",
       "    </tr>\n",
       "    <tr>\n",
       "      <th>777</th>\n",
       "      <td>(trestbps, exang, ca)</td>\n",
       "      <td>Logistic Regression</td>\n",
       "      <td>0.885246</td>\n",
       "    </tr>\n",
       "    <tr>\n",
       "      <th>514</th>\n",
       "      <td>(cp, trestbps, ca)</td>\n",
       "      <td>Gaussian Naives Bayes</td>\n",
       "      <td>0.885246</td>\n",
       "    </tr>\n",
       "    <tr>\n",
       "      <th>287</th>\n",
       "      <td>(sex, cp, exang)</td>\n",
       "      <td>Support Vector Machine</td>\n",
       "      <td>0.885246</td>\n",
       "    </tr>\n",
       "    <tr>\n",
       "      <th>1033</th>\n",
       "      <td>(restecg, exang, ca)</td>\n",
       "      <td>Logistic Regression</td>\n",
       "      <td>0.885246</td>\n",
       "    </tr>\n",
       "    <tr>\n",
       "      <th>978</th>\n",
       "      <td>(fbs, exang, thal)</td>\n",
       "      <td>Gaussian Naives Bayes</td>\n",
       "      <td>0.885246</td>\n",
       "    </tr>\n",
       "    <tr>\n",
       "      <th>973</th>\n",
       "      <td>(fbs, exang, ca)</td>\n",
       "      <td>Logistic Regression</td>\n",
       "      <td>0.885246</td>\n",
       "    </tr>\n",
       "    <tr>\n",
       "      <th>662</th>\n",
       "      <td>(cp, ca, thal)</td>\n",
       "      <td>Gaussian Naives Bayes</td>\n",
       "      <td>0.885246</td>\n",
       "    </tr>\n",
       "    <tr>\n",
       "      <th>617</th>\n",
       "      <td>(cp, thalach, ca)</td>\n",
       "      <td>Logistic Regression</td>\n",
       "      <td>0.885246</td>\n",
       "    </tr>\n",
       "    <tr>\n",
       "      <th>639</th>\n",
       "      <td>(cp, exang, thal)</td>\n",
       "      <td>Support Vector Machine</td>\n",
       "      <td>0.885246</td>\n",
       "    </tr>\n",
       "  </tbody>\n",
       "</table>\n",
       "</div>"
      ],
      "text/plain": [
       "                      Combo              Classifier  Accuracy Score\n",
       "633         (cp, exang, ca)     Logistic Regression        0.934426\n",
       "634         (cp, exang, ca)   Gaussian Naives Bayes        0.918033\n",
       "1126      (exang, ca, thal)   Gaussian Naives Bayes        0.901639\n",
       "285        (sex, cp, exang)     Logistic Regression        0.901639\n",
       "286        (sex, cp, exang)   Gaussian Naives Bayes        0.901639\n",
       "638       (cp, exang, thal)   Gaussian Naives Bayes        0.901639\n",
       "635         (cp, exang, ca)  Support Vector Machine        0.901639\n",
       "234        (age, exang, ca)   Gaussian Naives Bayes        0.901639\n",
       "585    (cp, restecg, exang)     Logistic Regression        0.901639\n",
       "545          (cp, chol, ca)     Logistic Regression        0.901639\n",
       "586    (cp, restecg, exang)   Gaussian Naives Bayes        0.885246\n",
       "777   (trestbps, exang, ca)     Logistic Regression        0.885246\n",
       "514      (cp, trestbps, ca)   Gaussian Naives Bayes        0.885246\n",
       "287        (sex, cp, exang)  Support Vector Machine        0.885246\n",
       "1033   (restecg, exang, ca)     Logistic Regression        0.885246\n",
       "978      (fbs, exang, thal)   Gaussian Naives Bayes        0.885246\n",
       "973        (fbs, exang, ca)     Logistic Regression        0.885246\n",
       "662          (cp, ca, thal)   Gaussian Naives Bayes        0.885246\n",
       "617       (cp, thalach, ca)     Logistic Regression        0.885246\n",
       "639       (cp, exang, thal)  Support Vector Machine        0.885246"
      ]
     },
     "execution_count": 141,
     "metadata": {},
     "output_type": "execute_result"
    }
   ],
   "source": [
    "temp = df\n",
    "temp = temp.sort_values(by = ['Accuracy Score'], ascending = False)\n",
    "temp.head(20)"
   ]
  },
  {
   "cell_type": "code",
   "execution_count": 142,
   "id": "dd821dfd-647a-44b5-8faf-de619f616879",
   "metadata": {},
   "outputs": [],
   "source": [
    "temp = temp.drop(['Classifier'], axis = 1)"
   ]
  },
  {
   "cell_type": "code",
   "execution_count": 146,
   "id": "e514911c-2064-4383-a916-1602e4ad888d",
   "metadata": {},
   "outputs": [
    {
     "data": {
      "text/html": [
       "<div>\n",
       "<style scoped>\n",
       "    .dataframe tbody tr th:only-of-type {\n",
       "        vertical-align: middle;\n",
       "    }\n",
       "\n",
       "    .dataframe tbody tr th {\n",
       "        vertical-align: top;\n",
       "    }\n",
       "\n",
       "    .dataframe thead th {\n",
       "        text-align: right;\n",
       "    }\n",
       "</style>\n",
       "<table border=\"1\" class=\"dataframe\">\n",
       "  <thead>\n",
       "    <tr style=\"text-align: right;\">\n",
       "      <th></th>\n",
       "      <th>Accuracy Score</th>\n",
       "    </tr>\n",
       "    <tr>\n",
       "      <th>Combo</th>\n",
       "      <th></th>\n",
       "    </tr>\n",
       "  </thead>\n",
       "  <tbody>\n",
       "    <tr>\n",
       "      <th>(cp, exang, ca)</th>\n",
       "      <td>0.889344</td>\n",
       "    </tr>\n",
       "    <tr>\n",
       "      <th>(cp, restecg, exang)</th>\n",
       "      <td>0.881148</td>\n",
       "    </tr>\n",
       "    <tr>\n",
       "      <th>(exang, ca, thal)</th>\n",
       "      <td>0.877049</td>\n",
       "    </tr>\n",
       "    <tr>\n",
       "      <th>(cp, thalach, ca)</th>\n",
       "      <td>0.864754</td>\n",
       "    </tr>\n",
       "    <tr>\n",
       "      <th>(cp, ca, thal)</th>\n",
       "      <td>0.860656</td>\n",
       "    </tr>\n",
       "  </tbody>\n",
       "</table>\n",
       "</div>"
      ],
      "text/plain": [
       "                      Accuracy Score\n",
       "Combo                               \n",
       "(cp, exang, ca)             0.889344\n",
       "(cp, restecg, exang)        0.881148\n",
       "(exang, ca, thal)           0.877049\n",
       "(cp, thalach, ca)           0.864754\n",
       "(cp, ca, thal)              0.860656"
      ]
     },
     "execution_count": 146,
     "metadata": {},
     "output_type": "execute_result"
    }
   ],
   "source": [
    "temp.groupby('Combo')['Accuracy Score'].mean().to_frame().sort_values(by = 'Accuracy Score', ascending = False).head()"
   ]
  },
  {
   "cell_type": "markdown",
   "id": "8be0d0d8-dbc8-481d-b446-a84d1905fe98",
   "metadata": {},
   "source": [
    "## Results\n",
    "\n",
    "From this we can see that the (cp, exang, ca) combo is most accurate for predicting whether or not a person will have heart disease. Looking back these are the meaning for those variables \n",
    "- cp: Chest pain type (0 = asymptomatic; 1 = atypical angina; 2 = non-anginal pain; 3 = typical angina)\n",
    "- ca: Number of major vessels (0-4) colored by flourosopy\n",
    "- exang: Exercise induced angina (1 = yes; 0 = no)\n",
    "\n",
    "With this in mind, we can see that these factors could be good indicators as the number of vessels exposed can show the functionality of the vessels in the heart with chest pain and exercise induced angina are also closely related with heart function."
   ]
  },
  {
   "cell_type": "code",
   "execution_count": null,
   "id": "8fd2950e-6fbf-4566-96ad-4d58a10dfcc1",
   "metadata": {},
   "outputs": [],
   "source": []
  },
  {
   "cell_type": "code",
   "execution_count": null,
   "id": "68963d1f-f408-4447-ab44-3508000f3852",
   "metadata": {},
   "outputs": [],
   "source": []
  },
  {
   "cell_type": "code",
   "execution_count": null,
   "id": "00463c85-9ce1-4357-86d9-dea85ed007ea",
   "metadata": {},
   "outputs": [],
   "source": []
  },
  {
   "cell_type": "code",
   "execution_count": null,
   "id": "9bfeb158-de0b-4f1d-ab67-9de265050f49",
   "metadata": {},
   "outputs": [],
   "source": []
  },
  {
   "cell_type": "code",
   "execution_count": null,
   "id": "6ab81d6f-0fb3-4c05-89db-ac48e46adfdd",
   "metadata": {},
   "outputs": [],
   "source": []
  },
  {
   "cell_type": "code",
   "execution_count": null,
   "id": "4a9e55b1-fb41-4e40-a0ef-b33f57e9ba66",
   "metadata": {},
   "outputs": [],
   "source": []
  }
 ],
 "metadata": {
  "kernelspec": {
   "display_name": "Python 3 (ipykernel)",
   "language": "python",
   "name": "python3"
  },
  "language_info": {
   "codemirror_mode": {
    "name": "ipython",
    "version": 3
   },
   "file_extension": ".py",
   "mimetype": "text/x-python",
   "name": "python",
   "nbconvert_exporter": "python",
   "pygments_lexer": "ipython3",
   "version": "3.11.6"
  }
 },
 "nbformat": 4,
 "nbformat_minor": 5
}
